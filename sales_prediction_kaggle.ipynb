{
  "nbformat": 4,
  "nbformat_minor": 0,
  "metadata": {
    "colab": {
      "name": "sales_prediction_kaggle.ipynb",
      "provenance": [],
      "collapsed_sections": [],
      "mount_file_id": "1oRl4clWV2cw3xhAf6pP4MYzfhRQ26Raj",
      "authorship_tag": "ABX9TyM4t766NkYiWFRTiPfPrr7I",
      "include_colab_link": true
    },
    "kernelspec": {
      "name": "python3",
      "display_name": "Python 3"
    }
  },
  "cells": [
    {
      "cell_type": "markdown",
      "metadata": {
        "id": "view-in-github",
        "colab_type": "text"
      },
      "source": [
        "<a href=\"https://colab.research.google.com/github/daniiomir/future_sales_prediction_kaggle/blob/master/sales_prediction_kaggle.ipynb\" target=\"_parent\"><img src=\"https://colab.research.google.com/assets/colab-badge.svg\" alt=\"Open In Colab\"/></a>"
      ]
    },
    {
      "cell_type": "code",
      "metadata": {
        "id": "NTC1jAGFg7rB",
        "colab_type": "code",
        "outputId": "7a8892cc-cf5f-4d1c-e97c-2973b91ef0da",
        "colab": {
          "base_uri": "https://localhost:8080/",
          "height": 330
        }
      },
      "source": [
        "!pip install catboost"
      ],
      "execution_count": 1,
      "outputs": [
        {
          "output_type": "stream",
          "text": [
            "Collecting catboost\n",
            "\u001b[?25l  Downloading https://files.pythonhosted.org/packages/b1/61/2b8106c8870601671d99ca94d8b8d180f2b740b7cdb95c930147508abcf9/catboost-0.23-cp36-none-manylinux1_x86_64.whl (64.7MB)\n",
            "\u001b[K     |████████████████████████████████| 64.8MB 62kB/s \n",
            "\u001b[?25hRequirement already satisfied: pandas>=0.24.0 in /usr/local/lib/python3.6/dist-packages (from catboost) (1.0.3)\n",
            "Requirement already satisfied: scipy in /usr/local/lib/python3.6/dist-packages (from catboost) (1.4.1)\n",
            "Requirement already satisfied: numpy>=1.16.0 in /usr/local/lib/python3.6/dist-packages (from catboost) (1.18.3)\n",
            "Requirement already satisfied: matplotlib in /usr/local/lib/python3.6/dist-packages (from catboost) (3.2.1)\n",
            "Requirement already satisfied: plotly in /usr/local/lib/python3.6/dist-packages (from catboost) (4.4.1)\n",
            "Requirement already satisfied: graphviz in /usr/local/lib/python3.6/dist-packages (from catboost) (0.10.1)\n",
            "Requirement already satisfied: six in /usr/local/lib/python3.6/dist-packages (from catboost) (1.12.0)\n",
            "Requirement already satisfied: pytz>=2017.2 in /usr/local/lib/python3.6/dist-packages (from pandas>=0.24.0->catboost) (2018.9)\n",
            "Requirement already satisfied: python-dateutil>=2.6.1 in /usr/local/lib/python3.6/dist-packages (from pandas>=0.24.0->catboost) (2.8.1)\n",
            "Requirement already satisfied: cycler>=0.10 in /usr/local/lib/python3.6/dist-packages (from matplotlib->catboost) (0.10.0)\n",
            "Requirement already satisfied: pyparsing!=2.0.4,!=2.1.2,!=2.1.6,>=2.0.1 in /usr/local/lib/python3.6/dist-packages (from matplotlib->catboost) (2.4.7)\n",
            "Requirement already satisfied: kiwisolver>=1.0.1 in /usr/local/lib/python3.6/dist-packages (from matplotlib->catboost) (1.2.0)\n",
            "Requirement already satisfied: retrying>=1.3.3 in /usr/local/lib/python3.6/dist-packages (from plotly->catboost) (1.3.3)\n",
            "Installing collected packages: catboost\n",
            "Successfully installed catboost-0.23\n"
          ],
          "name": "stdout"
        }
      ]
    },
    {
      "cell_type": "code",
      "metadata": {
        "id": "wxGFtekqhzDR",
        "colab_type": "code",
        "outputId": "7ef69d6a-ab19-426e-e0ef-568dac7b7721",
        "colab": {
          "base_uri": "https://localhost:8080/",
          "height": 52
        }
      },
      "source": [
        "!ls drive/My\\ Drive/Colab\\ Notebooks/data_sales_prediction"
      ],
      "execution_count": 2,
      "outputs": [
        {
          "output_type": "stream",
          "text": [
            "item_categories.csv  sales_train.csv\t    shops.csv\n",
            "items.csv\t     sample_submission.csv  test.csv\n"
          ],
          "name": "stdout"
        }
      ]
    },
    {
      "cell_type": "code",
      "metadata": {
        "id": "SwiQ-jBDkGj9",
        "colab_type": "code",
        "outputId": "b4ab707d-38fd-4c49-c88b-ffd7fcb3623a",
        "colab": {
          "base_uri": "https://localhost:8080/",
          "height": 52
        }
      },
      "source": [
        "import pandas as pd\n",
        "import numpy as np\n",
        "import matplotlib.pyplot as plt\n",
        "import seaborn as sns\n",
        "\n",
        "pd.set_option('display.float_format', lambda x: '%.5f' % x) # for formating pandas values in float format (not ~1e+1)"
      ],
      "execution_count": 3,
      "outputs": [
        {
          "output_type": "stream",
          "text": [
            "/usr/local/lib/python3.6/dist-packages/statsmodels/tools/_testing.py:19: FutureWarning: pandas.util.testing is deprecated. Use the functions in the public API at pandas.testing instead.\n",
            "  import pandas.util.testing as tm\n"
          ],
          "name": "stderr"
        }
      ]
    },
    {
      "cell_type": "markdown",
      "metadata": {
        "id": "j9xc2Pyyr0B1",
        "colab_type": "text"
      },
      "source": [
        "# Check data"
      ]
    },
    {
      "cell_type": "code",
      "metadata": {
        "id": "3W2WGGOJkwIL",
        "colab_type": "code",
        "colab": {}
      },
      "source": [
        "path = r\"drive/My Drive/Colab Notebooks/data_sales_prediction/\"\n",
        "\n",
        "items_cat = pd.read_csv(path + \"item_categories.csv\")\n",
        "items = pd.read_csv(path + \"items.csv\")\n",
        "train = pd.read_csv(path + \"sales_train.csv\")\n",
        "sample_sub = pd.read_csv(path + \"sample_submission.csv\")\n",
        "shops = pd.read_csv(path + \"shops.csv\")\n",
        "test = pd.read_csv(path + \"test.csv\")"
      ],
      "execution_count": 0,
      "outputs": []
    },
    {
      "cell_type": "code",
      "metadata": {
        "id": "0h6U4lrUmnLz",
        "colab_type": "code",
        "outputId": "a923cc48-1476-4999-96a9-e12f88d376b1",
        "colab": {
          "base_uri": "https://localhost:8080/",
          "height": 206
        }
      },
      "source": [
        "items_cat.head() # we should watch on our data tables"
      ],
      "execution_count": 5,
      "outputs": [
        {
          "output_type": "execute_result",
          "data": {
            "text/html": [
              "<div>\n",
              "<style scoped>\n",
              "    .dataframe tbody tr th:only-of-type {\n",
              "        vertical-align: middle;\n",
              "    }\n",
              "\n",
              "    .dataframe tbody tr th {\n",
              "        vertical-align: top;\n",
              "    }\n",
              "\n",
              "    .dataframe thead th {\n",
              "        text-align: right;\n",
              "    }\n",
              "</style>\n",
              "<table border=\"1\" class=\"dataframe\">\n",
              "  <thead>\n",
              "    <tr style=\"text-align: right;\">\n",
              "      <th></th>\n",
              "      <th>item_category_name</th>\n",
              "      <th>item_category_id</th>\n",
              "    </tr>\n",
              "  </thead>\n",
              "  <tbody>\n",
              "    <tr>\n",
              "      <th>0</th>\n",
              "      <td>PC - Гарнитуры/Наушники</td>\n",
              "      <td>0</td>\n",
              "    </tr>\n",
              "    <tr>\n",
              "      <th>1</th>\n",
              "      <td>Аксессуары - PS2</td>\n",
              "      <td>1</td>\n",
              "    </tr>\n",
              "    <tr>\n",
              "      <th>2</th>\n",
              "      <td>Аксессуары - PS3</td>\n",
              "      <td>2</td>\n",
              "    </tr>\n",
              "    <tr>\n",
              "      <th>3</th>\n",
              "      <td>Аксессуары - PS4</td>\n",
              "      <td>3</td>\n",
              "    </tr>\n",
              "    <tr>\n",
              "      <th>4</th>\n",
              "      <td>Аксессуары - PSP</td>\n",
              "      <td>4</td>\n",
              "    </tr>\n",
              "  </tbody>\n",
              "</table>\n",
              "</div>"
            ],
            "text/plain": [
              "        item_category_name  item_category_id\n",
              "0  PC - Гарнитуры/Наушники                 0\n",
              "1         Аксессуары - PS2                 1\n",
              "2         Аксессуары - PS3                 2\n",
              "3         Аксессуары - PS4                 3\n",
              "4         Аксессуары - PSP                 4"
            ]
          },
          "metadata": {
            "tags": []
          },
          "execution_count": 5
        }
      ]
    },
    {
      "cell_type": "code",
      "metadata": {
        "id": "hhfOjviNmzyC",
        "colab_type": "code",
        "outputId": "5721b158-bb82-45f2-bee2-e0da6d2960fe",
        "colab": {
          "base_uri": "https://localhost:8080/",
          "height": 206
        }
      },
      "source": [
        "items.head()"
      ],
      "execution_count": 6,
      "outputs": [
        {
          "output_type": "execute_result",
          "data": {
            "text/html": [
              "<div>\n",
              "<style scoped>\n",
              "    .dataframe tbody tr th:only-of-type {\n",
              "        vertical-align: middle;\n",
              "    }\n",
              "\n",
              "    .dataframe tbody tr th {\n",
              "        vertical-align: top;\n",
              "    }\n",
              "\n",
              "    .dataframe thead th {\n",
              "        text-align: right;\n",
              "    }\n",
              "</style>\n",
              "<table border=\"1\" class=\"dataframe\">\n",
              "  <thead>\n",
              "    <tr style=\"text-align: right;\">\n",
              "      <th></th>\n",
              "      <th>item_name</th>\n",
              "      <th>item_id</th>\n",
              "      <th>item_category_id</th>\n",
              "    </tr>\n",
              "  </thead>\n",
              "  <tbody>\n",
              "    <tr>\n",
              "      <th>0</th>\n",
              "      <td>! ВО ВЛАСТИ НАВАЖДЕНИЯ (ПЛАСТ.)         D</td>\n",
              "      <td>0</td>\n",
              "      <td>40</td>\n",
              "    </tr>\n",
              "    <tr>\n",
              "      <th>1</th>\n",
              "      <td>!ABBYY FineReader 12 Professional Edition Full...</td>\n",
              "      <td>1</td>\n",
              "      <td>76</td>\n",
              "    </tr>\n",
              "    <tr>\n",
              "      <th>2</th>\n",
              "      <td>***В ЛУЧАХ СЛАВЫ   (UNV)                    D</td>\n",
              "      <td>2</td>\n",
              "      <td>40</td>\n",
              "    </tr>\n",
              "    <tr>\n",
              "      <th>3</th>\n",
              "      <td>***ГОЛУБАЯ ВОЛНА  (Univ)                      D</td>\n",
              "      <td>3</td>\n",
              "      <td>40</td>\n",
              "    </tr>\n",
              "    <tr>\n",
              "      <th>4</th>\n",
              "      <td>***КОРОБКА (СТЕКЛО)                       D</td>\n",
              "      <td>4</td>\n",
              "      <td>40</td>\n",
              "    </tr>\n",
              "  </tbody>\n",
              "</table>\n",
              "</div>"
            ],
            "text/plain": [
              "                                           item_name  item_id  item_category_id\n",
              "0          ! ВО ВЛАСТИ НАВАЖДЕНИЯ (ПЛАСТ.)         D        0                40\n",
              "1  !ABBYY FineReader 12 Professional Edition Full...        1                76\n",
              "2      ***В ЛУЧАХ СЛАВЫ   (UNV)                    D        2                40\n",
              "3    ***ГОЛУБАЯ ВОЛНА  (Univ)                      D        3                40\n",
              "4        ***КОРОБКА (СТЕКЛО)                       D        4                40"
            ]
          },
          "metadata": {
            "tags": []
          },
          "execution_count": 6
        }
      ]
    },
    {
      "cell_type": "code",
      "metadata": {
        "id": "SwGAOysnm1TT",
        "colab_type": "code",
        "outputId": "4b624d70-5423-4267-e6c8-3ae40886e206",
        "colab": {
          "base_uri": "https://localhost:8080/",
          "height": 206
        }
      },
      "source": [
        "train.head()"
      ],
      "execution_count": 7,
      "outputs": [
        {
          "output_type": "execute_result",
          "data": {
            "text/html": [
              "<div>\n",
              "<style scoped>\n",
              "    .dataframe tbody tr th:only-of-type {\n",
              "        vertical-align: middle;\n",
              "    }\n",
              "\n",
              "    .dataframe tbody tr th {\n",
              "        vertical-align: top;\n",
              "    }\n",
              "\n",
              "    .dataframe thead th {\n",
              "        text-align: right;\n",
              "    }\n",
              "</style>\n",
              "<table border=\"1\" class=\"dataframe\">\n",
              "  <thead>\n",
              "    <tr style=\"text-align: right;\">\n",
              "      <th></th>\n",
              "      <th>date</th>\n",
              "      <th>date_block_num</th>\n",
              "      <th>shop_id</th>\n",
              "      <th>item_id</th>\n",
              "      <th>item_price</th>\n",
              "      <th>item_cnt_day</th>\n",
              "    </tr>\n",
              "  </thead>\n",
              "  <tbody>\n",
              "    <tr>\n",
              "      <th>0</th>\n",
              "      <td>02.01.2013</td>\n",
              "      <td>0</td>\n",
              "      <td>59</td>\n",
              "      <td>22154</td>\n",
              "      <td>999.00000</td>\n",
              "      <td>1.00000</td>\n",
              "    </tr>\n",
              "    <tr>\n",
              "      <th>1</th>\n",
              "      <td>03.01.2013</td>\n",
              "      <td>0</td>\n",
              "      <td>25</td>\n",
              "      <td>2552</td>\n",
              "      <td>899.00000</td>\n",
              "      <td>1.00000</td>\n",
              "    </tr>\n",
              "    <tr>\n",
              "      <th>2</th>\n",
              "      <td>05.01.2013</td>\n",
              "      <td>0</td>\n",
              "      <td>25</td>\n",
              "      <td>2552</td>\n",
              "      <td>899.00000</td>\n",
              "      <td>-1.00000</td>\n",
              "    </tr>\n",
              "    <tr>\n",
              "      <th>3</th>\n",
              "      <td>06.01.2013</td>\n",
              "      <td>0</td>\n",
              "      <td>25</td>\n",
              "      <td>2554</td>\n",
              "      <td>1709.05000</td>\n",
              "      <td>1.00000</td>\n",
              "    </tr>\n",
              "    <tr>\n",
              "      <th>4</th>\n",
              "      <td>15.01.2013</td>\n",
              "      <td>0</td>\n",
              "      <td>25</td>\n",
              "      <td>2555</td>\n",
              "      <td>1099.00000</td>\n",
              "      <td>1.00000</td>\n",
              "    </tr>\n",
              "  </tbody>\n",
              "</table>\n",
              "</div>"
            ],
            "text/plain": [
              "         date  date_block_num  shop_id  item_id  item_price  item_cnt_day\n",
              "0  02.01.2013               0       59    22154   999.00000       1.00000\n",
              "1  03.01.2013               0       25     2552   899.00000       1.00000\n",
              "2  05.01.2013               0       25     2552   899.00000      -1.00000\n",
              "3  06.01.2013               0       25     2554  1709.05000       1.00000\n",
              "4  15.01.2013               0       25     2555  1099.00000       1.00000"
            ]
          },
          "metadata": {
            "tags": []
          },
          "execution_count": 7
        }
      ]
    },
    {
      "cell_type": "code",
      "metadata": {
        "id": "d9MaAdm-m2wz",
        "colab_type": "code",
        "outputId": "36d1c1f8-9493-4831-e60a-e69fb536e188",
        "colab": {
          "base_uri": "https://localhost:8080/",
          "height": 206
        }
      },
      "source": [
        "sample_sub.head()"
      ],
      "execution_count": 8,
      "outputs": [
        {
          "output_type": "execute_result",
          "data": {
            "text/html": [
              "<div>\n",
              "<style scoped>\n",
              "    .dataframe tbody tr th:only-of-type {\n",
              "        vertical-align: middle;\n",
              "    }\n",
              "\n",
              "    .dataframe tbody tr th {\n",
              "        vertical-align: top;\n",
              "    }\n",
              "\n",
              "    .dataframe thead th {\n",
              "        text-align: right;\n",
              "    }\n",
              "</style>\n",
              "<table border=\"1\" class=\"dataframe\">\n",
              "  <thead>\n",
              "    <tr style=\"text-align: right;\">\n",
              "      <th></th>\n",
              "      <th>ID</th>\n",
              "      <th>item_cnt_month</th>\n",
              "    </tr>\n",
              "  </thead>\n",
              "  <tbody>\n",
              "    <tr>\n",
              "      <th>0</th>\n",
              "      <td>0</td>\n",
              "      <td>0.50000</td>\n",
              "    </tr>\n",
              "    <tr>\n",
              "      <th>1</th>\n",
              "      <td>1</td>\n",
              "      <td>0.50000</td>\n",
              "    </tr>\n",
              "    <tr>\n",
              "      <th>2</th>\n",
              "      <td>2</td>\n",
              "      <td>0.50000</td>\n",
              "    </tr>\n",
              "    <tr>\n",
              "      <th>3</th>\n",
              "      <td>3</td>\n",
              "      <td>0.50000</td>\n",
              "    </tr>\n",
              "    <tr>\n",
              "      <th>4</th>\n",
              "      <td>4</td>\n",
              "      <td>0.50000</td>\n",
              "    </tr>\n",
              "  </tbody>\n",
              "</table>\n",
              "</div>"
            ],
            "text/plain": [
              "   ID  item_cnt_month\n",
              "0   0         0.50000\n",
              "1   1         0.50000\n",
              "2   2         0.50000\n",
              "3   3         0.50000\n",
              "4   4         0.50000"
            ]
          },
          "metadata": {
            "tags": []
          },
          "execution_count": 8
        }
      ]
    },
    {
      "cell_type": "code",
      "metadata": {
        "id": "tUCRARZ-m4ks",
        "colab_type": "code",
        "outputId": "cf3e0678-5a42-41da-8455-c8b1e23d3f86",
        "colab": {
          "base_uri": "https://localhost:8080/",
          "height": 206
        }
      },
      "source": [
        "shops.head()"
      ],
      "execution_count": 9,
      "outputs": [
        {
          "output_type": "execute_result",
          "data": {
            "text/html": [
              "<div>\n",
              "<style scoped>\n",
              "    .dataframe tbody tr th:only-of-type {\n",
              "        vertical-align: middle;\n",
              "    }\n",
              "\n",
              "    .dataframe tbody tr th {\n",
              "        vertical-align: top;\n",
              "    }\n",
              "\n",
              "    .dataframe thead th {\n",
              "        text-align: right;\n",
              "    }\n",
              "</style>\n",
              "<table border=\"1\" class=\"dataframe\">\n",
              "  <thead>\n",
              "    <tr style=\"text-align: right;\">\n",
              "      <th></th>\n",
              "      <th>shop_name</th>\n",
              "      <th>shop_id</th>\n",
              "    </tr>\n",
              "  </thead>\n",
              "  <tbody>\n",
              "    <tr>\n",
              "      <th>0</th>\n",
              "      <td>!Якутск Орджоникидзе, 56 фран</td>\n",
              "      <td>0</td>\n",
              "    </tr>\n",
              "    <tr>\n",
              "      <th>1</th>\n",
              "      <td>!Якутск ТЦ \"Центральный\" фран</td>\n",
              "      <td>1</td>\n",
              "    </tr>\n",
              "    <tr>\n",
              "      <th>2</th>\n",
              "      <td>Адыгея ТЦ \"Мега\"</td>\n",
              "      <td>2</td>\n",
              "    </tr>\n",
              "    <tr>\n",
              "      <th>3</th>\n",
              "      <td>Балашиха ТРК \"Октябрь-Киномир\"</td>\n",
              "      <td>3</td>\n",
              "    </tr>\n",
              "    <tr>\n",
              "      <th>4</th>\n",
              "      <td>Волжский ТЦ \"Волга Молл\"</td>\n",
              "      <td>4</td>\n",
              "    </tr>\n",
              "  </tbody>\n",
              "</table>\n",
              "</div>"
            ],
            "text/plain": [
              "                        shop_name  shop_id\n",
              "0   !Якутск Орджоникидзе, 56 фран        0\n",
              "1   !Якутск ТЦ \"Центральный\" фран        1\n",
              "2                Адыгея ТЦ \"Мега\"        2\n",
              "3  Балашиха ТРК \"Октябрь-Киномир\"        3\n",
              "4        Волжский ТЦ \"Волга Молл\"        4"
            ]
          },
          "metadata": {
            "tags": []
          },
          "execution_count": 9
        }
      ]
    },
    {
      "cell_type": "code",
      "metadata": {
        "id": "U9bRs_DXm8Yb",
        "colab_type": "code",
        "outputId": "d19dc572-59b6-49a7-a993-a1c029982413",
        "colab": {
          "base_uri": "https://localhost:8080/",
          "height": 206
        }
      },
      "source": [
        "test.head()"
      ],
      "execution_count": 10,
      "outputs": [
        {
          "output_type": "execute_result",
          "data": {
            "text/html": [
              "<div>\n",
              "<style scoped>\n",
              "    .dataframe tbody tr th:only-of-type {\n",
              "        vertical-align: middle;\n",
              "    }\n",
              "\n",
              "    .dataframe tbody tr th {\n",
              "        vertical-align: top;\n",
              "    }\n",
              "\n",
              "    .dataframe thead th {\n",
              "        text-align: right;\n",
              "    }\n",
              "</style>\n",
              "<table border=\"1\" class=\"dataframe\">\n",
              "  <thead>\n",
              "    <tr style=\"text-align: right;\">\n",
              "      <th></th>\n",
              "      <th>ID</th>\n",
              "      <th>shop_id</th>\n",
              "      <th>item_id</th>\n",
              "    </tr>\n",
              "  </thead>\n",
              "  <tbody>\n",
              "    <tr>\n",
              "      <th>0</th>\n",
              "      <td>0</td>\n",
              "      <td>5</td>\n",
              "      <td>5037</td>\n",
              "    </tr>\n",
              "    <tr>\n",
              "      <th>1</th>\n",
              "      <td>1</td>\n",
              "      <td>5</td>\n",
              "      <td>5320</td>\n",
              "    </tr>\n",
              "    <tr>\n",
              "      <th>2</th>\n",
              "      <td>2</td>\n",
              "      <td>5</td>\n",
              "      <td>5233</td>\n",
              "    </tr>\n",
              "    <tr>\n",
              "      <th>3</th>\n",
              "      <td>3</td>\n",
              "      <td>5</td>\n",
              "      <td>5232</td>\n",
              "    </tr>\n",
              "    <tr>\n",
              "      <th>4</th>\n",
              "      <td>4</td>\n",
              "      <td>5</td>\n",
              "      <td>5268</td>\n",
              "    </tr>\n",
              "  </tbody>\n",
              "</table>\n",
              "</div>"
            ],
            "text/plain": [
              "   ID  shop_id  item_id\n",
              "0   0        5     5037\n",
              "1   1        5     5320\n",
              "2   2        5     5233\n",
              "3   3        5     5232\n",
              "4   4        5     5268"
            ]
          },
          "metadata": {
            "tags": []
          },
          "execution_count": 10
        }
      ]
    },
    {
      "cell_type": "code",
      "metadata": {
        "id": "wh7F8JwJm9AD",
        "colab_type": "code",
        "outputId": "9f9915d0-6f9d-4ef7-e7db-181a042543c9",
        "colab": {
          "base_uri": "https://localhost:8080/",
          "height": 69
        }
      },
      "source": [
        "items_cat.isnull().sum() # check for nulls"
      ],
      "execution_count": 11,
      "outputs": [
        {
          "output_type": "execute_result",
          "data": {
            "text/plain": [
              "item_category_name    0\n",
              "item_category_id      0\n",
              "dtype: int64"
            ]
          },
          "metadata": {
            "tags": []
          },
          "execution_count": 11
        }
      ]
    },
    {
      "cell_type": "code",
      "metadata": {
        "id": "JZyGPsePoGJC",
        "colab_type": "code",
        "outputId": "fd5f27a9-18a0-4c41-b764-51012ac6e0b9",
        "colab": {
          "base_uri": "https://localhost:8080/",
          "height": 86
        }
      },
      "source": [
        "items.isnull().sum()"
      ],
      "execution_count": 12,
      "outputs": [
        {
          "output_type": "execute_result",
          "data": {
            "text/plain": [
              "item_name           0\n",
              "item_id             0\n",
              "item_category_id    0\n",
              "dtype: int64"
            ]
          },
          "metadata": {
            "tags": []
          },
          "execution_count": 12
        }
      ]
    },
    {
      "cell_type": "code",
      "metadata": {
        "id": "hoKjVpjfoJEL",
        "colab_type": "code",
        "outputId": "8ab3ff7d-193a-45c9-b423-8b55f1e0bcb4",
        "colab": {
          "base_uri": "https://localhost:8080/",
          "height": 139
        }
      },
      "source": [
        "train.isnull().sum()"
      ],
      "execution_count": 13,
      "outputs": [
        {
          "output_type": "execute_result",
          "data": {
            "text/plain": [
              "date              0\n",
              "date_block_num    0\n",
              "shop_id           0\n",
              "item_id           0\n",
              "item_price        0\n",
              "item_cnt_day      0\n",
              "dtype: int64"
            ]
          },
          "metadata": {
            "tags": []
          },
          "execution_count": 13
        }
      ]
    },
    {
      "cell_type": "code",
      "metadata": {
        "id": "opgLifBzoLkj",
        "colab_type": "code",
        "outputId": "4f032582-70e6-4670-981c-b5badb287191",
        "colab": {
          "base_uri": "https://localhost:8080/",
          "height": 69
        }
      },
      "source": [
        "shops.isnull().sum()"
      ],
      "execution_count": 14,
      "outputs": [
        {
          "output_type": "execute_result",
          "data": {
            "text/plain": [
              "shop_name    0\n",
              "shop_id      0\n",
              "dtype: int64"
            ]
          },
          "metadata": {
            "tags": []
          },
          "execution_count": 14
        }
      ]
    },
    {
      "cell_type": "code",
      "metadata": {
        "id": "JdUPs7i8oRw7",
        "colab_type": "code",
        "outputId": "13253a2d-dc23-4bd3-f3bb-5029f23c0a93",
        "colab": {
          "base_uri": "https://localhost:8080/",
          "height": 86
        }
      },
      "source": [
        "test.isnull().sum()"
      ],
      "execution_count": 15,
      "outputs": [
        {
          "output_type": "execute_result",
          "data": {
            "text/plain": [
              "ID         0\n",
              "shop_id    0\n",
              "item_id    0\n",
              "dtype: int64"
            ]
          },
          "metadata": {
            "tags": []
          },
          "execution_count": 15
        }
      ]
    },
    {
      "cell_type": "markdown",
      "metadata": {
        "id": "VRye8boargjc",
        "colab_type": "text"
      },
      "source": [
        "# Feature engineering"
      ]
    },
    {
      "cell_type": "code",
      "metadata": {
        "id": "sPqhKYDMoT76",
        "colab_type": "code",
        "colab": {}
      },
      "source": [
        "test_shops = test.shop_id.unique() # in train/test data we have shops/items that we doesn't have in train/test data \n",
        "train = train[train.shop_id.isin(test_shops)] # so... we should delete useless data\n",
        "test_items = test.item_id.unique()\n",
        "train = train[train.item_id.isin(test_items)]"
      ],
      "execution_count": 0,
      "outputs": []
    },
    {
      "cell_type": "code",
      "metadata": {
        "id": "YYc1dCU5MNEe",
        "colab_type": "code",
        "colab": {}
      },
      "source": [
        "def split_city(str):\n",
        "  return str.split(sep=\" \", maxsplit=1)[0]\n",
        "\n",
        "def split_shop(str):\n",
        "  return str.split(sep=\" \", maxsplit=1)[1]\n",
        "\n",
        "def split_item_cat1(str):\n",
        "  return str.split(sep=\"-\", maxsplit=1)[0]\n",
        "\n",
        "def split_item_cat2(str):\n",
        "  splitted = str.split(sep=\"-\", maxsplit=1)\n",
        "  if len(splitted) == 1:\n",
        "    return \"No info\"\n",
        "  else:\n",
        "    return splitted[1]\n",
        "\n",
        "def prepare_data(data): # function for merging data and reformating features\n",
        "  full_items = items.merge(items_cat, left_on=\"item_category_id\", right_on=\"item_category_id\")\n",
        "  full_data = data.merge(shops, left_on=\"shop_id\", right_on=\"shop_id\").merge(full_items, left_on=\"item_id\", right_on=\"item_id\")\n",
        "  del full_items\n",
        "  full_data['city'] = full_data['shop_name'].apply(split_city)\n",
        "  full_data['new_shop_name'] = full_data['shop_name'].apply(split_shop)\n",
        "  full_data['item_cat1'] = full_data['item_category_name'].apply(split_item_cat1)\n",
        "  full_data['item_cat2'] = full_data['item_category_name'].apply(split_item_cat2)\n",
        "  full_data.drop(['shop_id', 'item_id', 'shop_name', 'item_name', 'item_category_id', 'item_category_name'], axis=1, inplace=True)\n",
        "  return full_data"
      ],
      "execution_count": 0,
      "outputs": []
    },
    {
      "cell_type": "code",
      "metadata": {
        "id": "GvEFlWgEQaGX",
        "colab_type": "code",
        "outputId": "f949f56d-afe8-401f-82e6-c9a272e2a5bf",
        "colab": {
          "base_uri": "https://localhost:8080/",
          "height": 52
        }
      },
      "source": [
        "%%time\n",
        "new_train = prepare_data(train.copy())\n",
        "new_test = prepare_data(test.copy())"
      ],
      "execution_count": 18,
      "outputs": [
        {
          "output_type": "stream",
          "text": [
            "CPU times: user 4.85 s, sys: 641 ms, total: 5.49 s\n",
            "Wall time: 5.51 s\n"
          ],
          "name": "stdout"
        }
      ]
    },
    {
      "cell_type": "code",
      "metadata": {
        "id": "kECO20MkdLMK",
        "colab_type": "code",
        "colab": {}
      },
      "source": [
        "# adding some usefull features, normilize our Y values into range 0, 20 and delete some columns\n",
        "new_test['date_block_num'] = 34\n",
        "new_test.drop(['ID'], axis=1, inplace=True)\n",
        "new_train.drop(['date'], axis=1, inplace=True)\n",
        "new_train['item_cnt_day'] = new_train['item_cnt_day'].clip(0, 20)\n",
        "new_train['month'] = new_train['date_block_num'] % 12\n",
        "new_test['month'] = new_test['date_block_num'] % 12\n",
        "new_train.drop(['item_price'], axis=1, inplace=True)"
      ],
      "execution_count": 0,
      "outputs": []
    },
    {
      "cell_type": "code",
      "metadata": {
        "id": "f78KO74XQvnj",
        "colab_type": "code",
        "outputId": "df75265c-8537-405c-aff1-1ae20fa1e6cc",
        "colab": {
          "base_uri": "https://localhost:8080/",
          "height": 424
        }
      },
      "source": [
        "new_train"
      ],
      "execution_count": 20,
      "outputs": [
        {
          "output_type": "execute_result",
          "data": {
            "text/html": [
              "<div>\n",
              "<style scoped>\n",
              "    .dataframe tbody tr th:only-of-type {\n",
              "        vertical-align: middle;\n",
              "    }\n",
              "\n",
              "    .dataframe tbody tr th {\n",
              "        vertical-align: top;\n",
              "    }\n",
              "\n",
              "    .dataframe thead th {\n",
              "        text-align: right;\n",
              "    }\n",
              "</style>\n",
              "<table border=\"1\" class=\"dataframe\">\n",
              "  <thead>\n",
              "    <tr style=\"text-align: right;\">\n",
              "      <th></th>\n",
              "      <th>date_block_num</th>\n",
              "      <th>item_cnt_day</th>\n",
              "      <th>city</th>\n",
              "      <th>new_shop_name</th>\n",
              "      <th>item_cat1</th>\n",
              "      <th>item_cat2</th>\n",
              "      <th>month</th>\n",
              "    </tr>\n",
              "  </thead>\n",
              "  <tbody>\n",
              "    <tr>\n",
              "      <th>0</th>\n",
              "      <td>0</td>\n",
              "      <td>1.00000</td>\n",
              "      <td>Ярославль</td>\n",
              "      <td>ТЦ \"Альтаир\"</td>\n",
              "      <td>Кино</td>\n",
              "      <td>Blu-Ray</td>\n",
              "      <td>0</td>\n",
              "    </tr>\n",
              "    <tr>\n",
              "      <th>1</th>\n",
              "      <td>0</td>\n",
              "      <td>1.00000</td>\n",
              "      <td>Москва</td>\n",
              "      <td>ТРК \"Атриум\"</td>\n",
              "      <td>Кино</td>\n",
              "      <td>Blu-Ray</td>\n",
              "      <td>0</td>\n",
              "    </tr>\n",
              "    <tr>\n",
              "      <th>2</th>\n",
              "      <td>0</td>\n",
              "      <td>1.00000</td>\n",
              "      <td>Москва</td>\n",
              "      <td>ТРК \"Атриум\"</td>\n",
              "      <td>Кино</td>\n",
              "      <td>Blu-Ray</td>\n",
              "      <td>0</td>\n",
              "    </tr>\n",
              "    <tr>\n",
              "      <th>3</th>\n",
              "      <td>0</td>\n",
              "      <td>1.00000</td>\n",
              "      <td>Москва</td>\n",
              "      <td>ТРК \"Атриум\"</td>\n",
              "      <td>Кино</td>\n",
              "      <td>Blu-Ray</td>\n",
              "      <td>0</td>\n",
              "    </tr>\n",
              "    <tr>\n",
              "      <th>4</th>\n",
              "      <td>0</td>\n",
              "      <td>1.00000</td>\n",
              "      <td>Москва</td>\n",
              "      <td>ТРК \"Атриум\"</td>\n",
              "      <td>Кино</td>\n",
              "      <td>Blu-Ray</td>\n",
              "      <td>0</td>\n",
              "    </tr>\n",
              "    <tr>\n",
              "      <th>...</th>\n",
              "      <td>...</td>\n",
              "      <td>...</td>\n",
              "      <td>...</td>\n",
              "      <td>...</td>\n",
              "      <td>...</td>\n",
              "      <td>...</td>\n",
              "      <td>...</td>\n",
              "    </tr>\n",
              "    <tr>\n",
              "      <th>1224434</th>\n",
              "      <td>33</td>\n",
              "      <td>1.00000</td>\n",
              "      <td>Цифровой</td>\n",
              "      <td>склад 1С-Онлайн</td>\n",
              "      <td>Программы</td>\n",
              "      <td>Для дома и офиса (Цифра)</td>\n",
              "      <td>9</td>\n",
              "    </tr>\n",
              "    <tr>\n",
              "      <th>1224435</th>\n",
              "      <td>33</td>\n",
              "      <td>1.00000</td>\n",
              "      <td>Цифровой</td>\n",
              "      <td>склад 1С-Онлайн</td>\n",
              "      <td>Программы</td>\n",
              "      <td>Для дома и офиса (Цифра)</td>\n",
              "      <td>9</td>\n",
              "    </tr>\n",
              "    <tr>\n",
              "      <th>1224436</th>\n",
              "      <td>33</td>\n",
              "      <td>3.00000</td>\n",
              "      <td>Цифровой</td>\n",
              "      <td>склад 1С-Онлайн</td>\n",
              "      <td>Игры PC</td>\n",
              "      <td>Цифра</td>\n",
              "      <td>9</td>\n",
              "    </tr>\n",
              "    <tr>\n",
              "      <th>1224437</th>\n",
              "      <td>33</td>\n",
              "      <td>1.00000</td>\n",
              "      <td>Цифровой</td>\n",
              "      <td>склад 1С-Онлайн</td>\n",
              "      <td>Игры PC</td>\n",
              "      <td>Цифра</td>\n",
              "      <td>9</td>\n",
              "    </tr>\n",
              "    <tr>\n",
              "      <th>1224438</th>\n",
              "      <td>33</td>\n",
              "      <td>1.00000</td>\n",
              "      <td>Томск</td>\n",
              "      <td>ТРЦ \"Изумрудный Город\"</td>\n",
              "      <td>Подарки</td>\n",
              "      <td>Мягкие игрушки</td>\n",
              "      <td>9</td>\n",
              "    </tr>\n",
              "  </tbody>\n",
              "</table>\n",
              "<p>1224439 rows × 7 columns</p>\n",
              "</div>"
            ],
            "text/plain": [
              "         date_block_num  item_cnt_day  ...                  item_cat2 month\n",
              "0                     0       1.00000  ...                    Blu-Ray     0\n",
              "1                     0       1.00000  ...                    Blu-Ray     0\n",
              "2                     0       1.00000  ...                    Blu-Ray     0\n",
              "3                     0       1.00000  ...                    Blu-Ray     0\n",
              "4                     0       1.00000  ...                    Blu-Ray     0\n",
              "...                 ...           ...  ...                        ...   ...\n",
              "1224434              33       1.00000  ...   Для дома и офиса (Цифра)     9\n",
              "1224435              33       1.00000  ...   Для дома и офиса (Цифра)     9\n",
              "1224436              33       3.00000  ...                      Цифра     9\n",
              "1224437              33       1.00000  ...                      Цифра     9\n",
              "1224438              33       1.00000  ...             Мягкие игрушки     9\n",
              "\n",
              "[1224439 rows x 7 columns]"
            ]
          },
          "metadata": {
            "tags": []
          },
          "execution_count": 20
        }
      ]
    },
    {
      "cell_type": "code",
      "metadata": {
        "id": "RbBSSaEnQxc6",
        "colab_type": "code",
        "outputId": "a67fe6f5-66bf-4726-ef9d-2f3e314372ec",
        "colab": {
          "base_uri": "https://localhost:8080/",
          "height": 424
        }
      },
      "source": [
        "new_test"
      ],
      "execution_count": 21,
      "outputs": [
        {
          "output_type": "execute_result",
          "data": {
            "text/html": [
              "<div>\n",
              "<style scoped>\n",
              "    .dataframe tbody tr th:only-of-type {\n",
              "        vertical-align: middle;\n",
              "    }\n",
              "\n",
              "    .dataframe tbody tr th {\n",
              "        vertical-align: top;\n",
              "    }\n",
              "\n",
              "    .dataframe thead th {\n",
              "        text-align: right;\n",
              "    }\n",
              "</style>\n",
              "<table border=\"1\" class=\"dataframe\">\n",
              "  <thead>\n",
              "    <tr style=\"text-align: right;\">\n",
              "      <th></th>\n",
              "      <th>city</th>\n",
              "      <th>new_shop_name</th>\n",
              "      <th>item_cat1</th>\n",
              "      <th>item_cat2</th>\n",
              "      <th>date_block_num</th>\n",
              "      <th>month</th>\n",
              "    </tr>\n",
              "  </thead>\n",
              "  <tbody>\n",
              "    <tr>\n",
              "      <th>0</th>\n",
              "      <td>Вологда</td>\n",
              "      <td>ТРЦ \"Мармелад\"</td>\n",
              "      <td>Игры</td>\n",
              "      <td>PS3</td>\n",
              "      <td>34</td>\n",
              "      <td>10</td>\n",
              "    </tr>\n",
              "    <tr>\n",
              "      <th>1</th>\n",
              "      <td>Волжский</td>\n",
              "      <td>ТЦ \"Волга Молл\"</td>\n",
              "      <td>Игры</td>\n",
              "      <td>PS3</td>\n",
              "      <td>34</td>\n",
              "      <td>10</td>\n",
              "    </tr>\n",
              "    <tr>\n",
              "      <th>2</th>\n",
              "      <td>Воронеж</td>\n",
              "      <td>(Плехановская, 13)</td>\n",
              "      <td>Игры</td>\n",
              "      <td>PS3</td>\n",
              "      <td>34</td>\n",
              "      <td>10</td>\n",
              "    </tr>\n",
              "    <tr>\n",
              "      <th>3</th>\n",
              "      <td>Балашиха</td>\n",
              "      <td>ТРК \"Октябрь-Киномир\"</td>\n",
              "      <td>Игры</td>\n",
              "      <td>PS3</td>\n",
              "      <td>34</td>\n",
              "      <td>10</td>\n",
              "    </tr>\n",
              "    <tr>\n",
              "      <th>4</th>\n",
              "      <td>Адыгея</td>\n",
              "      <td>ТЦ \"Мега\"</td>\n",
              "      <td>Игры</td>\n",
              "      <td>PS3</td>\n",
              "      <td>34</td>\n",
              "      <td>10</td>\n",
              "    </tr>\n",
              "    <tr>\n",
              "      <th>...</th>\n",
              "      <td>...</td>\n",
              "      <td>...</td>\n",
              "      <td>...</td>\n",
              "      <td>...</td>\n",
              "      <td>...</td>\n",
              "      <td>...</td>\n",
              "    </tr>\n",
              "    <tr>\n",
              "      <th>214195</th>\n",
              "      <td>Сергиев</td>\n",
              "      <td>Посад ТЦ \"7Я\"</td>\n",
              "      <td>Кино</td>\n",
              "      <td>Blu-Ray</td>\n",
              "      <td>34</td>\n",
              "      <td>10</td>\n",
              "    </tr>\n",
              "    <tr>\n",
              "      <th>214196</th>\n",
              "      <td>РостовНаДону</td>\n",
              "      <td>ТЦ \"Мега\"</td>\n",
              "      <td>Кино</td>\n",
              "      <td>Blu-Ray</td>\n",
              "      <td>34</td>\n",
              "      <td>10</td>\n",
              "    </tr>\n",
              "    <tr>\n",
              "      <th>214197</th>\n",
              "      <td>Самара</td>\n",
              "      <td>ТЦ \"Мелодия\"</td>\n",
              "      <td>Кино</td>\n",
              "      <td>Blu-Ray</td>\n",
              "      <td>34</td>\n",
              "      <td>10</td>\n",
              "    </tr>\n",
              "    <tr>\n",
              "      <th>214198</th>\n",
              "      <td>РостовНаДону</td>\n",
              "      <td>ТРК \"Мегацентр Горизонт\"</td>\n",
              "      <td>Кино</td>\n",
              "      <td>Blu-Ray</td>\n",
              "      <td>34</td>\n",
              "      <td>10</td>\n",
              "    </tr>\n",
              "    <tr>\n",
              "      <th>214199</th>\n",
              "      <td>Самара</td>\n",
              "      <td>ТЦ \"ПаркХаус\"</td>\n",
              "      <td>Кино</td>\n",
              "      <td>Blu-Ray</td>\n",
              "      <td>34</td>\n",
              "      <td>10</td>\n",
              "    </tr>\n",
              "  </tbody>\n",
              "</table>\n",
              "<p>214200 rows × 6 columns</p>\n",
              "</div>"
            ],
            "text/plain": [
              "                city             new_shop_name  ... date_block_num month\n",
              "0            Вологда            ТРЦ \"Мармелад\"  ...             34    10\n",
              "1           Волжский           ТЦ \"Волга Молл\"  ...             34    10\n",
              "2            Воронеж        (Плехановская, 13)  ...             34    10\n",
              "3           Балашиха     ТРК \"Октябрь-Киномир\"  ...             34    10\n",
              "4             Адыгея                 ТЦ \"Мега\"  ...             34    10\n",
              "...              ...                       ...  ...            ...   ...\n",
              "214195       Сергиев             Посад ТЦ \"7Я\"  ...             34    10\n",
              "214196  РостовНаДону                 ТЦ \"Мега\"  ...             34    10\n",
              "214197        Самара              ТЦ \"Мелодия\"  ...             34    10\n",
              "214198  РостовНаДону  ТРК \"Мегацентр Горизонт\"  ...             34    10\n",
              "214199        Самара             ТЦ \"ПаркХаус\"  ...             34    10\n",
              "\n",
              "[214200 rows x 6 columns]"
            ]
          },
          "metadata": {
            "tags": []
          },
          "execution_count": 21
        }
      ]
    },
    {
      "cell_type": "code",
      "metadata": {
        "id": "jCd3rf5zn-Qa",
        "colab_type": "code",
        "outputId": "7e5f8d65-fe93-4b2b-dbfc-078345435e3d",
        "colab": {
          "base_uri": "https://localhost:8080/",
          "height": 260
        }
      },
      "source": [
        "new_train.info()"
      ],
      "execution_count": 22,
      "outputs": [
        {
          "output_type": "stream",
          "text": [
            "<class 'pandas.core.frame.DataFrame'>\n",
            "Int64Index: 1224439 entries, 0 to 1224438\n",
            "Data columns (total 7 columns):\n",
            " #   Column          Non-Null Count    Dtype  \n",
            "---  ------          --------------    -----  \n",
            " 0   date_block_num  1224439 non-null  int64  \n",
            " 1   item_cnt_day    1224439 non-null  float64\n",
            " 2   city            1224439 non-null  object \n",
            " 3   new_shop_name   1224439 non-null  object \n",
            " 4   item_cat1       1224439 non-null  object \n",
            " 5   item_cat2       1224439 non-null  object \n",
            " 6   month           1224439 non-null  int64  \n",
            "dtypes: float64(1), int64(2), object(4)\n",
            "memory usage: 74.7+ MB\n"
          ],
          "name": "stdout"
        }
      ]
    },
    {
      "cell_type": "code",
      "metadata": {
        "id": "4RpCP63hoC2Z",
        "colab_type": "code",
        "outputId": "0aee2040-f874-423d-a51b-6ed7bbd76b4d",
        "colab": {
          "base_uri": "https://localhost:8080/",
          "height": 243
        }
      },
      "source": [
        "new_test.info()"
      ],
      "execution_count": 23,
      "outputs": [
        {
          "output_type": "stream",
          "text": [
            "<class 'pandas.core.frame.DataFrame'>\n",
            "Int64Index: 214200 entries, 0 to 214199\n",
            "Data columns (total 6 columns):\n",
            " #   Column          Non-Null Count   Dtype \n",
            "---  ------          --------------   ----- \n",
            " 0   city            214200 non-null  object\n",
            " 1   new_shop_name   214200 non-null  object\n",
            " 2   item_cat1       214200 non-null  object\n",
            " 3   item_cat2       214200 non-null  object\n",
            " 4   date_block_num  214200 non-null  int64 \n",
            " 5   month           214200 non-null  int64 \n",
            "dtypes: int64(2), object(4)\n",
            "memory usage: 11.4+ MB\n"
          ],
          "name": "stdout"
        }
      ]
    },
    {
      "cell_type": "code",
      "metadata": {
        "id": "6xNokMz04Ztp",
        "colab_type": "code",
        "outputId": "45120485-d1f0-4230-a060-c80600125105",
        "colab": {
          "base_uri": "https://localhost:8080/",
          "height": 300
        }
      },
      "source": [
        "new_train.describe()"
      ],
      "execution_count": 24,
      "outputs": [
        {
          "output_type": "execute_result",
          "data": {
            "text/html": [
              "<div>\n",
              "<style scoped>\n",
              "    .dataframe tbody tr th:only-of-type {\n",
              "        vertical-align: middle;\n",
              "    }\n",
              "\n",
              "    .dataframe tbody tr th {\n",
              "        vertical-align: top;\n",
              "    }\n",
              "\n",
              "    .dataframe thead th {\n",
              "        text-align: right;\n",
              "    }\n",
              "</style>\n",
              "<table border=\"1\" class=\"dataframe\">\n",
              "  <thead>\n",
              "    <tr style=\"text-align: right;\">\n",
              "      <th></th>\n",
              "      <th>date_block_num</th>\n",
              "      <th>item_cnt_day</th>\n",
              "      <th>month</th>\n",
              "    </tr>\n",
              "  </thead>\n",
              "  <tbody>\n",
              "    <tr>\n",
              "      <th>count</th>\n",
              "      <td>1224439.00000</td>\n",
              "      <td>1224439.00000</td>\n",
              "      <td>1224439.00000</td>\n",
              "    </tr>\n",
              "    <tr>\n",
              "      <th>mean</th>\n",
              "      <td>19.35472</td>\n",
              "      <td>1.28759</td>\n",
              "      <td>5.62865</td>\n",
              "    </tr>\n",
              "    <tr>\n",
              "      <th>std</th>\n",
              "      <td>9.11072</td>\n",
              "      <td>1.36084</td>\n",
              "      <td>3.47005</td>\n",
              "    </tr>\n",
              "    <tr>\n",
              "      <th>min</th>\n",
              "      <td>0.00000</td>\n",
              "      <td>0.00000</td>\n",
              "      <td>0.00000</td>\n",
              "    </tr>\n",
              "    <tr>\n",
              "      <th>25%</th>\n",
              "      <td>12.00000</td>\n",
              "      <td>1.00000</td>\n",
              "      <td>3.00000</td>\n",
              "    </tr>\n",
              "    <tr>\n",
              "      <th>50%</th>\n",
              "      <td>21.00000</td>\n",
              "      <td>1.00000</td>\n",
              "      <td>6.00000</td>\n",
              "    </tr>\n",
              "    <tr>\n",
              "      <th>75%</th>\n",
              "      <td>27.00000</td>\n",
              "      <td>1.00000</td>\n",
              "      <td>9.00000</td>\n",
              "    </tr>\n",
              "    <tr>\n",
              "      <th>max</th>\n",
              "      <td>33.00000</td>\n",
              "      <td>20.00000</td>\n",
              "      <td>11.00000</td>\n",
              "    </tr>\n",
              "  </tbody>\n",
              "</table>\n",
              "</div>"
            ],
            "text/plain": [
              "       date_block_num  item_cnt_day         month\n",
              "count   1224439.00000 1224439.00000 1224439.00000\n",
              "mean         19.35472       1.28759       5.62865\n",
              "std           9.11072       1.36084       3.47005\n",
              "min           0.00000       0.00000       0.00000\n",
              "25%          12.00000       1.00000       3.00000\n",
              "50%          21.00000       1.00000       6.00000\n",
              "75%          27.00000       1.00000       9.00000\n",
              "max          33.00000      20.00000      11.00000"
            ]
          },
          "metadata": {
            "tags": []
          },
          "execution_count": 24
        }
      ]
    },
    {
      "cell_type": "code",
      "metadata": {
        "id": "T8o5MUT6IrQP",
        "colab_type": "code",
        "colab": {}
      },
      "source": [
        "X_train = new_train.drop(['item_cnt_day'], axis=1) # splitting into X and Y\n",
        "Y_train = new_train['item_cnt_day']\n",
        "X_test = new_test"
      ],
      "execution_count": 0,
      "outputs": []
    },
    {
      "cell_type": "code",
      "metadata": {
        "id": "h9h48uSlUQDY",
        "colab_type": "code",
        "colab": {}
      },
      "source": [
        "cat_features = ['city', 'new_shop_name', 'item_cat1', 'item_cat2']\n",
        "\n",
        "def into_numbers(data): # preparing our categorical features\n",
        "  num_data = pd.concat([data, pd.get_dummies(data['city'])], axis=1)\n",
        "  num_data = pd.concat([num_data, pd.get_dummies(data['item_cat1'])], axis=1)\n",
        "  num_data = pd.concat([num_data, pd.get_dummies(data['item_cat2'])], axis=1)\n",
        "  num_data = pd.concat([num_data, pd.get_dummies(data['new_shop_name'])], axis=1)\n",
        "  num_data.drop(cat_features, axis=1, inplace=True)\n",
        "  return num_data"
      ],
      "execution_count": 0,
      "outputs": []
    },
    {
      "cell_type": "code",
      "metadata": {
        "id": "DALUXM_XV7F0",
        "colab_type": "code",
        "outputId": "93fd944f-d8b1-4f47-f0d6-07e958835fae",
        "colab": {
          "base_uri": "https://localhost:8080/",
          "height": 52
        }
      },
      "source": [
        "%%time\n",
        "X_train_num = into_numbers(X_train.copy())\n",
        "X_test_num = into_numbers(X_test.copy())"
      ],
      "execution_count": 27,
      "outputs": [
        {
          "output_type": "stream",
          "text": [
            "CPU times: user 2.45 s, sys: 320 ms, total: 2.77 s\n",
            "Wall time: 2.78 s\n"
          ],
          "name": "stdout"
        }
      ]
    },
    {
      "cell_type": "code",
      "metadata": {
        "id": "g_Nro53UVOO1",
        "colab_type": "code",
        "colab": {}
      },
      "source": [
        "X_train_num[' Гарнитуры/Наушники'] = 0\n",
        "X_train_num['PC ' ] = 0\n",
        "X_train_num['Игры MAC '] = 0"
      ],
      "execution_count": 0,
      "outputs": []
    },
    {
      "cell_type": "code",
      "metadata": {
        "id": "jQ8gFnk0XkS9",
        "colab_type": "code",
        "colab": {}
      },
      "source": [
        "X_train_num = X_train_num.reindex(sorted(X_train_num.columns), axis=1)\n",
        "X_test_num = X_test_num.reindex(sorted(X_test_num.columns), axis=1)"
      ],
      "execution_count": 0,
      "outputs": []
    },
    {
      "cell_type": "markdown",
      "metadata": {
        "id": "T6rFWIf0rW0f",
        "colab_type": "text"
      },
      "source": [
        "# Creating model"
      ]
    },
    {
      "cell_type": "code",
      "metadata": {
        "id": "qoBxCr3wqPsc",
        "colab_type": "code",
        "colab": {}
      },
      "source": [
        "import xgboost\n",
        "import catboost\n",
        "from sklearn.ensemble import RandomForestRegressor\n",
        "from lightgbm import LGBMRegressor\n",
        "from sklearn.metrics import mean_squared_error\n",
        "from sklearn.model_selection import train_test_split"
      ],
      "execution_count": 0,
      "outputs": []
    },
    {
      "cell_type": "code",
      "metadata": {
        "id": "gpAq49_EsJbP",
        "colab_type": "code",
        "colab": {}
      },
      "source": [
        "X_train_check, X_test_check, y_train_check, y_test_check = train_test_split(X_train_num, Y_train, test_size=0.33, random_state=42) # normilized data with get_dummies method"
      ],
      "execution_count": 0,
      "outputs": []
    },
    {
      "cell_type": "code",
      "metadata": {
        "id": "6NuF7E2MrRws",
        "colab_type": "code",
        "colab": {}
      },
      "source": [
        "X_train_no_num, X_test_no_num, y_train_no_num, y_test_no_num = train_test_split(X_train, Y_train, test_size=0.33, random_state=42) # data without get_dummy method"
      ],
      "execution_count": 0,
      "outputs": []
    },
    {
      "cell_type": "markdown",
      "metadata": {
        "id": "3mJ01dkiqGQa",
        "colab_type": "text"
      },
      "source": [
        "# XGBoost"
      ]
    },
    {
      "cell_type": "code",
      "metadata": {
        "id": "n_8VqEbFsilD",
        "colab_type": "code",
        "outputId": "f75cd4cc-290e-428f-9aa9-fea66b5cd719",
        "colab": {
          "base_uri": "https://localhost:8080/",
          "height": 69
        }
      },
      "source": [
        "%%time\n",
        "model_xgboost = xgboost.XGBRegressor()\n",
        "model_xgboost.fit(X_train_check, y_train_check)"
      ],
      "execution_count": 33,
      "outputs": [
        {
          "output_type": "stream",
          "text": [
            "[13:52:11] WARNING: /workspace/src/objective/regression_obj.cu:152: reg:linear is now deprecated in favor of reg:squarederror.\n",
            "CPU times: user 4min 42s, sys: 2.08 s, total: 4min 44s\n",
            "Wall time: 4min 45s\n"
          ],
          "name": "stdout"
        }
      ]
    },
    {
      "cell_type": "code",
      "metadata": {
        "id": "YCtWGzx0taXO",
        "colab_type": "code",
        "outputId": "1758fe9e-3a34-43c2-a5c5-1f762a56c4f9",
        "colab": {
          "base_uri": "https://localhost:8080/",
          "height": 34
        }
      },
      "source": [
        "pred_xgb = model_xgboost.predict(X_test_check)\n",
        "print(np.sqrt(mean_squared_error(y_test_check, pred_xgb)))"
      ],
      "execution_count": 34,
      "outputs": [
        {
          "output_type": "stream",
          "text": [
            "1.0768528449363164\n"
          ],
          "name": "stdout"
        }
      ]
    },
    {
      "cell_type": "code",
      "metadata": {
        "id": "XmcUy7RTAdxJ",
        "colab_type": "code",
        "outputId": "4fd919fa-32bf-4a93-aa0f-82b8410cf316",
        "colab": {
          "base_uri": "https://localhost:8080/",
          "height": 312
        }
      },
      "source": [
        "xgboost.plot_importance(model_xgboost)"
      ],
      "execution_count": 35,
      "outputs": [
        {
          "output_type": "execute_result",
          "data": {
            "text/plain": [
              "<matplotlib.axes._subplots.AxesSubplot at 0x7f0bdc0e8ef0>"
            ]
          },
          "metadata": {
            "tags": []
          },
          "execution_count": 35
        },
        {
          "output_type": "display_data",
          "data": {
            "image/png": "[encoded data removed]",
            "text/plain": [
              "<Figure size 432x288 with 1 Axes>"
            ]
          },
          "metadata": {
            "tags": [],
            "needs_background": "light"
          }
        }
      ]
    },
    {
      "cell_type": "markdown",
      "metadata": {
        "id": "rlREJ4CYqLEw",
        "colab_type": "text"
      },
      "source": [
        "# Catboost"
      ]
    },
    {
      "cell_type": "code",
      "metadata": {
        "id": "vBqumohBqQBX",
        "colab_type": "code",
        "outputId": "5a7fbd1c-18f3-4c36-9b15-fc61fc3ee07f",
        "colab": {
          "base_uri": "https://localhost:8080/",
          "height": 1000
        }
      },
      "source": [
        "%%time\n",
        "model_catboost = catboost.CatBoostRegressor(cat_features=cat_features, loss_function='RMSE')\n",
        "model_catboost.fit(X_train_no_num, y_train_no_num)"
      ],
      "execution_count": 36,
      "outputs": [
        {
          "output_type": "stream",
          "text": [
            "Learning rate set to 0.128853\n",
            "0:\tlearn: 1.3009953\ttotal: 684ms\tremaining: 11m 23s\n",
            "1:\tlearn: 1.2552209\ttotal: 1.15s\tremaining: 9m 34s\n",
            "2:\tlearn: 1.2180931\ttotal: 1.71s\tremaining: 9m 27s\n",
            "3:\tlearn: 1.1884685\ttotal: 2.13s\tremaining: 8m 49s\n",
            "4:\tlearn: 1.1656827\ttotal: 2.5s\tremaining: 8m 16s\n",
            "5:\tlearn: 1.1474008\ttotal: 2.91s\tremaining: 8m 1s\n",
            "6:\tlearn: 1.1329751\ttotal: 3.32s\tremaining: 7m 50s\n",
            "7:\tlearn: 1.1213048\ttotal: 3.71s\tremaining: 7m 39s\n",
            "8:\tlearn: 1.1123874\ttotal: 4.17s\tremaining: 7m 39s\n",
            "9:\tlearn: 1.1051156\ttotal: 4.63s\tremaining: 7m 38s\n",
            "10:\tlearn: 1.0996283\ttotal: 5.06s\tremaining: 7m 35s\n",
            "11:\tlearn: 1.0947166\ttotal: 5.45s\tremaining: 7m 28s\n",
            "12:\tlearn: 1.0909223\ttotal: 5.85s\tremaining: 7m 24s\n",
            "13:\tlearn: 1.0879077\ttotal: 6.28s\tremaining: 7m 22s\n",
            "14:\tlearn: 1.0853661\ttotal: 6.71s\tremaining: 7m 20s\n",
            "15:\tlearn: 1.0829868\ttotal: 7.18s\tremaining: 7m 21s\n",
            "16:\tlearn: 1.0808939\ttotal: 7.59s\tremaining: 7m 18s\n",
            "17:\tlearn: 1.0787624\ttotal: 7.99s\tremaining: 7m 16s\n",
            "18:\tlearn: 1.0770665\ttotal: 8.42s\tremaining: 7m 14s\n",
            "19:\tlearn: 1.0756374\ttotal: 8.79s\tremaining: 7m 10s\n",
            "20:\tlearn: 1.0744041\ttotal: 9.25s\tremaining: 7m 11s\n",
            "21:\tlearn: 1.0734242\ttotal: 9.64s\tremaining: 7m 8s\n",
            "22:\tlearn: 1.0725005\ttotal: 10s\tremaining: 7m 6s\n",
            "23:\tlearn: 1.0713696\ttotal: 10.5s\tremaining: 7m 7s\n",
            "24:\tlearn: 1.0703514\ttotal: 11s\tremaining: 7m 10s\n",
            "25:\tlearn: 1.0695529\ttotal: 11.5s\tremaining: 7m 10s\n",
            "26:\tlearn: 1.0685143\ttotal: 11.9s\tremaining: 7m 10s\n",
            "27:\tlearn: 1.0676752\ttotal: 12.5s\tremaining: 7m 12s\n",
            "28:\tlearn: 1.0669823\ttotal: 13s\tremaining: 7m 14s\n",
            "29:\tlearn: 1.0663120\ttotal: 13.5s\tremaining: 7m 18s\n",
            "30:\tlearn: 1.0656633\ttotal: 14.1s\tremaining: 7m 20s\n",
            "31:\tlearn: 1.0650246\ttotal: 14.5s\tremaining: 7m 18s\n",
            "32:\tlearn: 1.0644931\ttotal: 15s\tremaining: 7m 18s\n",
            "33:\tlearn: 1.0636900\ttotal: 15.5s\tremaining: 7m 20s\n",
            "34:\tlearn: 1.0631541\ttotal: 16s\tremaining: 7m 19s\n",
            "35:\tlearn: 1.0626985\ttotal: 16.6s\tremaining: 7m 23s\n",
            "36:\tlearn: 1.0623577\ttotal: 17.1s\tremaining: 7m 26s\n",
            "37:\tlearn: 1.0620344\ttotal: 17.5s\tremaining: 7m 24s\n",
            "38:\tlearn: 1.0616492\ttotal: 18s\tremaining: 7m 24s\n",
            "39:\tlearn: 1.0613527\ttotal: 18.4s\tremaining: 7m 22s\n",
            "40:\tlearn: 1.0610166\ttotal: 18.9s\tremaining: 7m 22s\n",
            "41:\tlearn: 1.0606859\ttotal: 19.3s\tremaining: 7m 21s\n",
            "42:\tlearn: 1.0604871\ttotal: 19.9s\tremaining: 7m 22s\n",
            "43:\tlearn: 1.0602675\ttotal: 20.4s\tremaining: 7m 22s\n",
            "44:\tlearn: 1.0600077\ttotal: 20.9s\tremaining: 7m 23s\n",
            "45:\tlearn: 1.0598126\ttotal: 21.5s\tremaining: 7m 26s\n",
            "46:\tlearn: 1.0595353\ttotal: 22.1s\tremaining: 7m 28s\n",
            "47:\tlearn: 1.0592005\ttotal: 22.6s\tremaining: 7m 28s\n",
            "48:\tlearn: 1.0589922\ttotal: 23.2s\tremaining: 7m 30s\n",
            "49:\tlearn: 1.0586822\ttotal: 23.7s\tremaining: 7m 29s\n",
            "50:\tlearn: 1.0585192\ttotal: 24.3s\tremaining: 7m 31s\n",
            "51:\tlearn: 1.0583887\ttotal: 24.7s\tremaining: 7m 30s\n",
            "52:\tlearn: 1.0579323\ttotal: 25.2s\tremaining: 7m 30s\n",
            "53:\tlearn: 1.0578656\ttotal: 25.8s\tremaining: 7m 32s\n",
            "54:\tlearn: 1.0576421\ttotal: 26.3s\tremaining: 7m 31s\n",
            "55:\tlearn: 1.0574589\ttotal: 26.8s\tremaining: 7m 32s\n",
            "56:\tlearn: 1.0572614\ttotal: 27.4s\tremaining: 7m 33s\n",
            "57:\tlearn: 1.0570874\ttotal: 27.9s\tremaining: 7m 32s\n",
            "58:\tlearn: 1.0568912\ttotal: 28.5s\tremaining: 7m 34s\n",
            "59:\tlearn: 1.0567846\ttotal: 28.9s\tremaining: 7m 32s\n",
            "60:\tlearn: 1.0563010\ttotal: 29.5s\tremaining: 7m 34s\n",
            "61:\tlearn: 1.0561327\ttotal: 30s\tremaining: 7m 34s\n",
            "62:\tlearn: 1.0559792\ttotal: 30.5s\tremaining: 7m 34s\n",
            "63:\tlearn: 1.0557960\ttotal: 31s\tremaining: 7m 33s\n",
            "64:\tlearn: 1.0557225\ttotal: 31.6s\tremaining: 7m 33s\n",
            "65:\tlearn: 1.0554759\ttotal: 32.1s\tremaining: 7m 34s\n",
            "66:\tlearn: 1.0553998\ttotal: 32.6s\tremaining: 7m 34s\n",
            "67:\tlearn: 1.0553048\ttotal: 33.1s\tremaining: 7m 33s\n",
            "68:\tlearn: 1.0549367\ttotal: 33.7s\tremaining: 7m 34s\n",
            "69:\tlearn: 1.0547845\ttotal: 34.2s\tremaining: 7m 33s\n",
            "70:\tlearn: 1.0547187\ttotal: 34.6s\tremaining: 7m 32s\n",
            "71:\tlearn: 1.0546045\ttotal: 35s\tremaining: 7m 30s\n",
            "72:\tlearn: 1.0544244\ttotal: 35.6s\tremaining: 7m 31s\n",
            "73:\tlearn: 1.0543224\ttotal: 35.9s\tremaining: 7m 29s\n",
            "74:\tlearn: 1.0542933\ttotal: 36.3s\tremaining: 7m 27s\n",
            "75:\tlearn: 1.0542001\ttotal: 36.8s\tremaining: 7m 27s\n",
            "76:\tlearn: 1.0541136\ttotal: 37.3s\tremaining: 7m 27s\n",
            "77:\tlearn: 1.0539413\ttotal: 37.8s\tremaining: 7m 26s\n",
            "78:\tlearn: 1.0539068\ttotal: 38.3s\tremaining: 7m 26s\n",
            "79:\tlearn: 1.0538268\ttotal: 38.7s\tremaining: 7m 25s\n",
            "80:\tlearn: 1.0537074\ttotal: 39.2s\tremaining: 7m 24s\n",
            "81:\tlearn: 1.0535881\ttotal: 39.6s\tremaining: 7m 22s\n",
            "82:\tlearn: 1.0535503\ttotal: 40s\tremaining: 7m 21s\n",
            "83:\tlearn: 1.0534871\ttotal: 40.4s\tremaining: 7m 20s\n",
            "84:\tlearn: 1.0532210\ttotal: 40.9s\tremaining: 7m 20s\n",
            "85:\tlearn: 1.0530591\ttotal: 41.4s\tremaining: 7m 20s\n",
            "86:\tlearn: 1.0529402\ttotal: 41.9s\tremaining: 7m 19s\n",
            "87:\tlearn: 1.0527618\ttotal: 42.5s\tremaining: 7m 20s\n",
            "88:\tlearn: 1.0527087\ttotal: 43s\tremaining: 7m 20s\n",
            "89:\tlearn: 1.0525160\ttotal: 43.7s\tremaining: 7m 21s\n",
            "90:\tlearn: 1.0520088\ttotal: 44.2s\tremaining: 7m 21s\n",
            "91:\tlearn: 1.0519071\ttotal: 44.8s\tremaining: 7m 22s\n",
            "92:\tlearn: 1.0515772\ttotal: 45.3s\tremaining: 7m 21s\n",
            "93:\tlearn: 1.0514529\ttotal: 45.8s\tremaining: 7m 21s\n",
            "94:\tlearn: 1.0514517\ttotal: 46.3s\tremaining: 7m 21s\n",
            "95:\tlearn: 1.0513674\ttotal: 47s\tremaining: 7m 22s\n",
            "96:\tlearn: 1.0512372\ttotal: 47.6s\tremaining: 7m 22s\n",
            "97:\tlearn: 1.0508806\ttotal: 48s\tremaining: 7m 22s\n",
            "98:\tlearn: 1.0507374\ttotal: 48.6s\tremaining: 7m 22s\n",
            "99:\tlearn: 1.0506185\ttotal: 49.2s\tremaining: 7m 22s\n",
            "100:\tlearn: 1.0505771\ttotal: 49.5s\tremaining: 7m 20s\n",
            "101:\tlearn: 1.0500477\ttotal: 50s\tremaining: 7m 20s\n",
            "102:\tlearn: 1.0500052\ttotal: 50.4s\tremaining: 7m 18s\n",
            "103:\tlearn: 1.0498855\ttotal: 50.9s\tremaining: 7m 18s\n",
            "104:\tlearn: 1.0498787\ttotal: 51.2s\tremaining: 7m 16s\n",
            "105:\tlearn: 1.0498109\ttotal: 51.8s\tremaining: 7m 16s\n",
            "106:\tlearn: 1.0497535\ttotal: 52.5s\tremaining: 7m 17s\n",
            "107:\tlearn: 1.0497457\ttotal: 53s\tremaining: 7m 17s\n",
            "108:\tlearn: 1.0496657\ttotal: 53.6s\tremaining: 7m 17s\n",
            "109:\tlearn: 1.0495937\ttotal: 54s\tremaining: 7m 16s\n",
            "110:\tlearn: 1.0495009\ttotal: 54.5s\tremaining: 7m 16s\n",
            "111:\tlearn: 1.0491023\ttotal: 55s\tremaining: 7m 16s\n",
            "112:\tlearn: 1.0490653\ttotal: 55.5s\tremaining: 7m 15s\n",
            "113:\tlearn: 1.0490024\ttotal: 56s\tremaining: 7m 15s\n",
            "114:\tlearn: 1.0489203\ttotal: 56.6s\tremaining: 7m 15s\n",
            "115:\tlearn: 1.0489137\ttotal: 56.9s\tremaining: 7m 13s\n",
            "116:\tlearn: 1.0487622\ttotal: 57.4s\tremaining: 7m 13s\n",
            "117:\tlearn: 1.0485210\ttotal: 57.9s\tremaining: 7m 12s\n",
            "118:\tlearn: 1.0484523\ttotal: 58.5s\tremaining: 7m 13s\n",
            "119:\tlearn: 1.0482055\ttotal: 58.9s\tremaining: 7m 12s\n",
            "120:\tlearn: 1.0479429\ttotal: 59.4s\tremaining: 7m 11s\n",
            "121:\tlearn: 1.0479187\ttotal: 59.8s\tremaining: 7m 10s\n",
            "122:\tlearn: 1.0478259\ttotal: 1m\tremaining: 7m 9s\n",
            "123:\tlearn: 1.0477209\ttotal: 1m\tremaining: 7m 9s\n",
            "124:\tlearn: 1.0476858\ttotal: 1m 1s\tremaining: 7m 9s\n",
            "125:\tlearn: 1.0476344\ttotal: 1m 1s\tremaining: 7m 8s\n",
            "126:\tlearn: 1.0474750\ttotal: 1m 2s\tremaining: 7m 7s\n",
            "127:\tlearn: 1.0474196\ttotal: 1m 2s\tremaining: 7m 7s\n",
            "128:\tlearn: 1.0472082\ttotal: 1m 3s\tremaining: 7m 6s\n",
            "129:\tlearn: 1.0471860\ttotal: 1m 3s\tremaining: 7m 6s\n",
            "130:\tlearn: 1.0471039\ttotal: 1m 4s\tremaining: 7m 6s\n",
            "131:\tlearn: 1.0470117\ttotal: 1m 4s\tremaining: 7m 6s\n",
            "132:\tlearn: 1.0469149\ttotal: 1m 5s\tremaining: 7m 5s\n",
            "133:\tlearn: 1.0469112\ttotal: 1m 5s\tremaining: 7m 5s\n",
            "134:\tlearn: 1.0468236\ttotal: 1m 6s\tremaining: 7m 5s\n",
            "135:\tlearn: 1.0467501\ttotal: 1m 6s\tremaining: 7m 4s\n",
            "136:\tlearn: 1.0466958\ttotal: 1m 7s\tremaining: 7m 4s\n",
            "137:\tlearn: 1.0466742\ttotal: 1m 7s\tremaining: 7m 4s\n",
            "138:\tlearn: 1.0465256\ttotal: 1m 8s\tremaining: 7m 4s\n",
            "139:\tlearn: 1.0464350\ttotal: 1m 9s\tremaining: 7m 4s\n",
            "140:\tlearn: 1.0462940\ttotal: 1m 9s\tremaining: 7m 2s\n",
            "141:\tlearn: 1.0462218\ttotal: 1m 10s\tremaining: 7m 3s\n",
            "142:\tlearn: 1.0461310\ttotal: 1m 10s\tremaining: 7m 2s\n",
            "143:\tlearn: 1.0460443\ttotal: 1m 10s\tremaining: 7m 1s\n",
            "144:\tlearn: 1.0458580\ttotal: 1m 11s\tremaining: 7m\n",
            "145:\tlearn: 1.0457043\ttotal: 1m 11s\tremaining: 7m\n",
            "146:\tlearn: 1.0456290\ttotal: 1m 12s\tremaining: 7m\n",
            "147:\tlearn: 1.0454402\ttotal: 1m 12s\tremaining: 7m\n",
            "148:\tlearn: 1.0453834\ttotal: 1m 13s\tremaining: 6m 59s\n",
            "149:\tlearn: 1.0452611\ttotal: 1m 13s\tremaining: 6m 58s\n",
            "150:\tlearn: 1.0451725\ttotal: 1m 14s\tremaining: 6m 57s\n",
            "151:\tlearn: 1.0451209\ttotal: 1m 14s\tremaining: 6m 56s\n",
            "152:\tlearn: 1.0450544\ttotal: 1m 15s\tremaining: 6m 55s\n",
            "153:\tlearn: 1.0449959\ttotal: 1m 15s\tremaining: 6m 54s\n",
            "154:\tlearn: 1.0449173\ttotal: 1m 15s\tremaining: 6m 53s\n",
            "155:\tlearn: 1.0448560\ttotal: 1m 16s\tremaining: 6m 52s\n",
            "156:\tlearn: 1.0447958\ttotal: 1m 16s\tremaining: 6m 52s\n",
            "157:\tlearn: 1.0446438\ttotal: 1m 17s\tremaining: 6m 52s\n",
            "158:\tlearn: 1.0445793\ttotal: 1m 17s\tremaining: 6m 51s\n",
            "159:\tlearn: 1.0445760\ttotal: 1m 18s\tremaining: 6m 52s\n",
            "160:\tlearn: 1.0445403\ttotal: 1m 19s\tremaining: 6m 52s\n",
            "161:\tlearn: 1.0444945\ttotal: 1m 19s\tremaining: 6m 51s\n",
            "162:\tlearn: 1.0444575\ttotal: 1m 19s\tremaining: 6m 50s\n",
            "163:\tlearn: 1.0444499\ttotal: 1m 20s\tremaining: 6m 50s\n",
            "164:\tlearn: 1.0444437\ttotal: 1m 20s\tremaining: 6m 49s\n",
            "165:\tlearn: 1.0444172\ttotal: 1m 21s\tremaining: 6m 49s\n",
            "166:\tlearn: 1.0444137\ttotal: 1m 21s\tremaining: 6m 47s\n",
            "167:\tlearn: 1.0444102\ttotal: 1m 22s\tremaining: 6m 46s\n",
            "168:\tlearn: 1.0443936\ttotal: 1m 22s\tremaining: 6m 46s\n",
            "169:\tlearn: 1.0443547\ttotal: 1m 23s\tremaining: 6m 46s\n",
            "170:\tlearn: 1.0443191\ttotal: 1m 24s\tremaining: 6m 47s\n",
            "171:\tlearn: 1.0442125\ttotal: 1m 24s\tremaining: 6m 47s\n",
            "172:\tlearn: 1.0442100\ttotal: 1m 25s\tremaining: 6m 46s\n",
            "173:\tlearn: 1.0441539\ttotal: 1m 25s\tremaining: 6m 46s\n",
            "174:\tlearn: 1.0441519\ttotal: 1m 25s\tremaining: 6m 45s\n",
            "175:\tlearn: 1.0439722\ttotal: 1m 26s\tremaining: 6m 44s\n",
            "176:\tlearn: 1.0438894\ttotal: 1m 26s\tremaining: 6m 44s\n",
            "177:\tlearn: 1.0438632\ttotal: 1m 27s\tremaining: 6m 43s\n",
            "178:\tlearn: 1.0438255\ttotal: 1m 28s\tremaining: 6m 43s\n",
            "179:\tlearn: 1.0437936\ttotal: 1m 28s\tremaining: 6m 43s\n",
            "180:\tlearn: 1.0436878\ttotal: 1m 29s\tremaining: 6m 44s\n",
            "181:\tlearn: 1.0435322\ttotal: 1m 29s\tremaining: 6m 43s\n",
            "182:\tlearn: 1.0434528\ttotal: 1m 30s\tremaining: 6m 44s\n",
            "183:\tlearn: 1.0433939\ttotal: 1m 30s\tremaining: 6m 43s\n",
            "184:\tlearn: 1.0433127\ttotal: 1m 31s\tremaining: 6m 42s\n",
            "185:\tlearn: 1.0432979\ttotal: 1m 31s\tremaining: 6m 41s\n",
            "186:\tlearn: 1.0432388\ttotal: 1m 32s\tremaining: 6m 41s\n",
            "187:\tlearn: 1.0432038\ttotal: 1m 32s\tremaining: 6m 40s\n",
            "188:\tlearn: 1.0430849\ttotal: 1m 33s\tremaining: 6m 40s\n",
            "189:\tlearn: 1.0430478\ttotal: 1m 33s\tremaining: 6m 39s\n",
            "190:\tlearn: 1.0429936\ttotal: 1m 34s\tremaining: 6m 38s\n",
            "191:\tlearn: 1.0429423\ttotal: 1m 34s\tremaining: 6m 37s\n",
            "192:\tlearn: 1.0428052\ttotal: 1m 35s\tremaining: 6m 37s\n",
            "193:\tlearn: 1.0427912\ttotal: 1m 35s\tremaining: 6m 36s\n",
            "194:\tlearn: 1.0427199\ttotal: 1m 36s\tremaining: 6m 36s\n",
            "195:\tlearn: 1.0426165\ttotal: 1m 36s\tremaining: 6m 35s\n",
            "196:\tlearn: 1.0425221\ttotal: 1m 37s\tremaining: 6m 35s\n",
            "197:\tlearn: 1.0424817\ttotal: 1m 37s\tremaining: 6m 34s\n",
            "198:\tlearn: 1.0424672\ttotal: 1m 38s\tremaining: 6m 34s\n",
            "199:\tlearn: 1.0424320\ttotal: 1m 38s\tremaining: 6m 33s\n",
            "200:\tlearn: 1.0424128\ttotal: 1m 38s\tremaining: 6m 33s\n",
            "201:\tlearn: 1.0424023\ttotal: 1m 39s\tremaining: 6m 32s\n",
            "202:\tlearn: 1.0423988\ttotal: 1m 39s\tremaining: 6m 32s\n",
            "203:\tlearn: 1.0423727\ttotal: 1m 40s\tremaining: 6m 32s\n",
            "204:\tlearn: 1.0423588\ttotal: 1m 41s\tremaining: 6m 32s\n",
            "205:\tlearn: 1.0423214\ttotal: 1m 41s\tremaining: 6m 31s\n",
            "206:\tlearn: 1.0422670\ttotal: 1m 42s\tremaining: 6m 31s\n",
            "207:\tlearn: 1.0422024\ttotal: 1m 42s\tremaining: 6m 31s\n",
            "208:\tlearn: 1.0421940\ttotal: 1m 43s\tremaining: 6m 30s\n",
            "209:\tlearn: 1.0418929\ttotal: 1m 43s\tremaining: 6m 29s\n",
            "210:\tlearn: 1.0418473\ttotal: 1m 44s\tremaining: 6m 29s\n",
            "211:\tlearn: 1.0418362\ttotal: 1m 44s\tremaining: 6m 28s\n",
            "212:\tlearn: 1.0418339\ttotal: 1m 44s\tremaining: 6m 27s\n",
            "213:\tlearn: 1.0417394\ttotal: 1m 45s\tremaining: 6m 27s\n",
            "214:\tlearn: 1.0415237\ttotal: 1m 46s\tremaining: 6m 27s\n",
            "215:\tlearn: 1.0414545\ttotal: 1m 46s\tremaining: 6m 27s\n",
            "216:\tlearn: 1.0414008\ttotal: 1m 47s\tremaining: 6m 26s\n",
            "217:\tlearn: 1.0412001\ttotal: 1m 47s\tremaining: 6m 26s\n",
            "218:\tlearn: 1.0411656\ttotal: 1m 48s\tremaining: 6m 25s\n",
            "219:\tlearn: 1.0411243\ttotal: 1m 48s\tremaining: 6m 24s\n",
            "220:\tlearn: 1.0410743\ttotal: 1m 48s\tremaining: 6m 23s\n",
            "221:\tlearn: 1.0410507\ttotal: 1m 49s\tremaining: 6m 24s\n",
            "222:\tlearn: 1.0410504\ttotal: 1m 50s\tremaining: 6m 23s\n",
            "223:\tlearn: 1.0408846\ttotal: 1m 50s\tremaining: 6m 23s\n",
            "224:\tlearn: 1.0408186\ttotal: 1m 51s\tremaining: 6m 23s\n",
            "225:\tlearn: 1.0407530\ttotal: 1m 51s\tremaining: 6m 22s\n",
            "226:\tlearn: 1.0407065\ttotal: 1m 52s\tremaining: 6m 22s\n",
            "227:\tlearn: 1.0406938\ttotal: 1m 52s\tremaining: 6m 21s\n",
            "228:\tlearn: 1.0406647\ttotal: 1m 53s\tremaining: 6m 20s\n",
            "229:\tlearn: 1.0406518\ttotal: 1m 53s\tremaining: 6m 19s\n",
            "230:\tlearn: 1.0406294\ttotal: 1m 53s\tremaining: 6m 18s\n",
            "231:\tlearn: 1.0406177\ttotal: 1m 54s\tremaining: 6m 18s\n",
            "232:\tlearn: 1.0405896\ttotal: 1m 54s\tremaining: 6m 17s\n",
            "233:\tlearn: 1.0405582\ttotal: 1m 55s\tremaining: 6m 17s\n",
            "234:\tlearn: 1.0405480\ttotal: 1m 55s\tremaining: 6m 16s\n",
            "235:\tlearn: 1.0405087\ttotal: 1m 55s\tremaining: 6m 15s\n",
            "236:\tlearn: 1.0404899\ttotal: 1m 56s\tremaining: 6m 14s\n",
            "237:\tlearn: 1.0404570\ttotal: 1m 56s\tremaining: 6m 13s\n",
            "238:\tlearn: 1.0403990\ttotal: 1m 57s\tremaining: 6m 13s\n",
            "239:\tlearn: 1.0403455\ttotal: 1m 57s\tremaining: 6m 12s\n",
            "240:\tlearn: 1.0403221\ttotal: 1m 57s\tremaining: 6m 11s\n",
            "241:\tlearn: 1.0402519\ttotal: 1m 58s\tremaining: 6m 11s\n",
            "242:\tlearn: 1.0402383\ttotal: 1m 58s\tremaining: 6m 10s\n",
            "243:\tlearn: 1.0402250\ttotal: 1m 59s\tremaining: 6m 9s\n",
            "244:\tlearn: 1.0402163\ttotal: 1m 59s\tremaining: 6m 8s\n",
            "245:\tlearn: 1.0402140\ttotal: 2m\tremaining: 6m 8s\n",
            "246:\tlearn: 1.0401808\ttotal: 2m\tremaining: 6m 8s\n",
            "247:\tlearn: 1.0401694\ttotal: 2m 1s\tremaining: 6m 7s\n",
            "248:\tlearn: 1.0401273\ttotal: 2m 1s\tremaining: 6m 6s\n",
            "249:\tlearn: 1.0400669\ttotal: 2m 2s\tremaining: 6m 6s\n",
            "250:\tlearn: 1.0400643\ttotal: 2m 2s\tremaining: 6m 5s\n",
            "251:\tlearn: 1.0400541\ttotal: 2m 2s\tremaining: 6m 4s\n",
            "252:\tlearn: 1.0400504\ttotal: 2m 3s\tremaining: 6m 4s\n",
            "253:\tlearn: 1.0400040\ttotal: 2m 3s\tremaining: 6m 3s\n",
            "254:\tlearn: 1.0399669\ttotal: 2m 4s\tremaining: 6m 3s\n",
            "255:\tlearn: 1.0399601\ttotal: 2m 4s\tremaining: 6m 2s\n",
            "256:\tlearn: 1.0399566\ttotal: 2m 5s\tremaining: 6m 1s\n",
            "257:\tlearn: 1.0399334\ttotal: 2m 5s\tremaining: 6m 1s\n",
            "258:\tlearn: 1.0399333\ttotal: 2m 6s\tremaining: 6m 1s\n",
            "259:\tlearn: 1.0399019\ttotal: 2m 6s\tremaining: 6m\n",
            "260:\tlearn: 1.0398929\ttotal: 2m 7s\tremaining: 6m\n",
            "261:\tlearn: 1.0398577\ttotal: 2m 7s\tremaining: 6m\n",
            "262:\tlearn: 1.0398528\ttotal: 2m 8s\tremaining: 5m 59s\n",
            "263:\tlearn: 1.0398443\ttotal: 2m 9s\tremaining: 5m 59s\n",
            "264:\tlearn: 1.0398376\ttotal: 2m 9s\tremaining: 5m 59s\n",
            "265:\tlearn: 1.0398044\ttotal: 2m 10s\tremaining: 5m 59s\n",
            "266:\tlearn: 1.0398031\ttotal: 2m 10s\tremaining: 5m 59s\n",
            "267:\tlearn: 1.0397494\ttotal: 2m 11s\tremaining: 5m 58s\n",
            "268:\tlearn: 1.0397183\ttotal: 2m 11s\tremaining: 5m 57s\n",
            "269:\tlearn: 1.0397141\ttotal: 2m 12s\tremaining: 5m 57s\n",
            "270:\tlearn: 1.0396036\ttotal: 2m 12s\tremaining: 5m 57s\n",
            "271:\tlearn: 1.0395958\ttotal: 2m 13s\tremaining: 5m 56s\n",
            "272:\tlearn: 1.0395865\ttotal: 2m 13s\tremaining: 5m 56s\n",
            "273:\tlearn: 1.0395372\ttotal: 2m 14s\tremaining: 5m 55s\n",
            "274:\tlearn: 1.0395192\ttotal: 2m 14s\tremaining: 5m 55s\n",
            "275:\tlearn: 1.0394988\ttotal: 2m 15s\tremaining: 5m 54s\n",
            "276:\tlearn: 1.0394418\ttotal: 2m 15s\tremaining: 5m 54s\n",
            "277:\tlearn: 1.0393648\ttotal: 2m 16s\tremaining: 5m 53s\n",
            "278:\tlearn: 1.0393422\ttotal: 2m 16s\tremaining: 5m 53s\n",
            "279:\tlearn: 1.0393349\ttotal: 2m 17s\tremaining: 5m 53s\n",
            "280:\tlearn: 1.0392240\ttotal: 2m 17s\tremaining: 5m 53s\n",
            "281:\tlearn: 1.0391683\ttotal: 2m 18s\tremaining: 5m 52s\n",
            "282:\tlearn: 1.0391346\ttotal: 2m 19s\tremaining: 5m 52s\n",
            "283:\tlearn: 1.0390746\ttotal: 2m 19s\tremaining: 5m 52s\n",
            "284:\tlearn: 1.0389887\ttotal: 2m 20s\tremaining: 5m 52s\n",
            "285:\tlearn: 1.0389477\ttotal: 2m 20s\tremaining: 5m 51s\n",
            "286:\tlearn: 1.0389361\ttotal: 2m 21s\tremaining: 5m 51s\n",
            "287:\tlearn: 1.0389041\ttotal: 2m 21s\tremaining: 5m 50s\n",
            "288:\tlearn: 1.0388483\ttotal: 2m 22s\tremaining: 5m 50s\n",
            "289:\tlearn: 1.0388376\ttotal: 2m 22s\tremaining: 5m 49s\n",
            "290:\tlearn: 1.0388170\ttotal: 2m 23s\tremaining: 5m 48s\n",
            "291:\tlearn: 1.0387937\ttotal: 2m 23s\tremaining: 5m 48s\n",
            "292:\tlearn: 1.0387867\ttotal: 2m 24s\tremaining: 5m 48s\n",
            "293:\tlearn: 1.0387680\ttotal: 2m 25s\tremaining: 5m 48s\n",
            "294:\tlearn: 1.0387357\ttotal: 2m 25s\tremaining: 5m 47s\n",
            "295:\tlearn: 1.0387193\ttotal: 2m 26s\tremaining: 5m 47s\n",
            "296:\tlearn: 1.0386597\ttotal: 2m 26s\tremaining: 5m 47s\n",
            "297:\tlearn: 1.0386363\ttotal: 2m 27s\tremaining: 5m 46s\n",
            "298:\tlearn: 1.0386272\ttotal: 2m 27s\tremaining: 5m 46s\n",
            "299:\tlearn: 1.0386231\ttotal: 2m 28s\tremaining: 5m 45s\n",
            "300:\tlearn: 1.0386141\ttotal: 2m 28s\tremaining: 5m 44s\n",
            "301:\tlearn: 1.0385930\ttotal: 2m 28s\tremaining: 5m 44s\n",
            "302:\tlearn: 1.0385801\ttotal: 2m 29s\tremaining: 5m 44s\n",
            "303:\tlearn: 1.0385418\ttotal: 2m 30s\tremaining: 5m 43s\n",
            "304:\tlearn: 1.0385322\ttotal: 2m 30s\tremaining: 5m 43s\n",
            "305:\tlearn: 1.0385263\ttotal: 2m 31s\tremaining: 5m 43s\n",
            "306:\tlearn: 1.0384514\ttotal: 2m 31s\tremaining: 5m 42s\n",
            "307:\tlearn: 1.0384187\ttotal: 2m 32s\tremaining: 5m 42s\n",
            "308:\tlearn: 1.0383728\ttotal: 2m 32s\tremaining: 5m 41s\n",
            "309:\tlearn: 1.0383645\ttotal: 2m 33s\tremaining: 5m 41s\n",
            "310:\tlearn: 1.0383483\ttotal: 2m 33s\tremaining: 5m 41s\n",
            "311:\tlearn: 1.0382321\ttotal: 2m 34s\tremaining: 5m 40s\n",
            "312:\tlearn: 1.0382267\ttotal: 2m 34s\tremaining: 5m 40s\n",
            "313:\tlearn: 1.0381969\ttotal: 2m 35s\tremaining: 5m 39s\n",
            "314:\tlearn: 1.0381650\ttotal: 2m 35s\tremaining: 5m 38s\n",
            "315:\tlearn: 1.0380766\ttotal: 2m 36s\tremaining: 5m 38s\n",
            "316:\tlearn: 1.0380341\ttotal: 2m 36s\tremaining: 5m 37s\n",
            "317:\tlearn: 1.0380086\ttotal: 2m 37s\tremaining: 5m 37s\n",
            "318:\tlearn: 1.0379544\ttotal: 2m 37s\tremaining: 5m 36s\n",
            "319:\tlearn: 1.0378985\ttotal: 2m 38s\tremaining: 5m 36s\n",
            "320:\tlearn: 1.0378832\ttotal: 2m 38s\tremaining: 5m 35s\n",
            "321:\tlearn: 1.0378678\ttotal: 2m 39s\tremaining: 5m 35s\n",
            "322:\tlearn: 1.0377442\ttotal: 2m 39s\tremaining: 5m 34s\n",
            "323:\tlearn: 1.0377271\ttotal: 2m 40s\tremaining: 5m 34s\n",
            "324:\tlearn: 1.0377175\ttotal: 2m 40s\tremaining: 5m 33s\n",
            "325:\tlearn: 1.0377005\ttotal: 2m 41s\tremaining: 5m 33s\n",
            "326:\tlearn: 1.0376252\ttotal: 2m 41s\tremaining: 5m 32s\n",
            "327:\tlearn: 1.0376106\ttotal: 2m 42s\tremaining: 5m 32s\n",
            "328:\tlearn: 1.0375471\ttotal: 2m 42s\tremaining: 5m 31s\n",
            "329:\tlearn: 1.0374703\ttotal: 2m 43s\tremaining: 5m 31s\n",
            "330:\tlearn: 1.0374430\ttotal: 2m 43s\tremaining: 5m 31s\n",
            "331:\tlearn: 1.0374105\ttotal: 2m 44s\tremaining: 5m 31s\n",
            "332:\tlearn: 1.0373793\ttotal: 2m 45s\tremaining: 5m 30s\n",
            "333:\tlearn: 1.0373650\ttotal: 2m 45s\tremaining: 5m 30s\n",
            "334:\tlearn: 1.0373050\ttotal: 2m 46s\tremaining: 5m 29s\n",
            "335:\tlearn: 1.0372858\ttotal: 2m 46s\tremaining: 5m 29s\n",
            "336:\tlearn: 1.0372818\ttotal: 2m 46s\tremaining: 5m 28s\n",
            "337:\tlearn: 1.0372455\ttotal: 2m 47s\tremaining: 5m 27s\n",
            "338:\tlearn: 1.0372386\ttotal: 2m 47s\tremaining: 5m 27s\n",
            "339:\tlearn: 1.0372163\ttotal: 2m 48s\tremaining: 5m 26s\n",
            "340:\tlearn: 1.0370567\ttotal: 2m 48s\tremaining: 5m 25s\n",
            "341:\tlearn: 1.0369765\ttotal: 2m 49s\tremaining: 5m 25s\n",
            "342:\tlearn: 1.0369652\ttotal: 2m 49s\tremaining: 5m 25s\n",
            "343:\tlearn: 1.0369608\ttotal: 2m 50s\tremaining: 5m 24s\n",
            "344:\tlearn: 1.0369586\ttotal: 2m 50s\tremaining: 5m 24s\n",
            "345:\tlearn: 1.0369395\ttotal: 2m 51s\tremaining: 5m 23s\n",
            "346:\tlearn: 1.0369187\ttotal: 2m 51s\tremaining: 5m 22s\n",
            "347:\tlearn: 1.0368934\ttotal: 2m 52s\tremaining: 5m 22s\n",
            "348:\tlearn: 1.0368739\ttotal: 2m 52s\tremaining: 5m 21s\n",
            "349:\tlearn: 1.0368319\ttotal: 2m 52s\tremaining: 5m 21s\n",
            "350:\tlearn: 1.0368238\ttotal: 2m 53s\tremaining: 5m 20s\n",
            "351:\tlearn: 1.0368130\ttotal: 2m 53s\tremaining: 5m 19s\n",
            "352:\tlearn: 1.0367985\ttotal: 2m 53s\tremaining: 5m 18s\n",
            "353:\tlearn: 1.0367931\ttotal: 2m 54s\tremaining: 5m 18s\n",
            "354:\tlearn: 1.0367701\ttotal: 2m 55s\tremaining: 5m 18s\n",
            "355:\tlearn: 1.0367432\ttotal: 2m 55s\tremaining: 5m 17s\n",
            "356:\tlearn: 1.0367193\ttotal: 2m 55s\tremaining: 5m 16s\n",
            "357:\tlearn: 1.0367184\ttotal: 2m 56s\tremaining: 5m 16s\n",
            "358:\tlearn: 1.0366893\ttotal: 2m 56s\tremaining: 5m 15s\n",
            "359:\tlearn: 1.0366831\ttotal: 2m 57s\tremaining: 5m 15s\n",
            "360:\tlearn: 1.0366074\ttotal: 2m 57s\tremaining: 5m 14s\n",
            "361:\tlearn: 1.0365787\ttotal: 2m 58s\tremaining: 5m 14s\n",
            "362:\tlearn: 1.0365696\ttotal: 2m 59s\tremaining: 5m 14s\n",
            "363:\tlearn: 1.0365373\ttotal: 2m 59s\tremaining: 5m 13s\n",
            "364:\tlearn: 1.0364963\ttotal: 3m\tremaining: 5m 13s\n",
            "365:\tlearn: 1.0364787\ttotal: 3m\tremaining: 5m 12s\n",
            "366:\tlearn: 1.0364620\ttotal: 3m 1s\tremaining: 5m 12s\n",
            "367:\tlearn: 1.0364591\ttotal: 3m 1s\tremaining: 5m 12s\n",
            "368:\tlearn: 1.0364489\ttotal: 3m 2s\tremaining: 5m 11s\n",
            "369:\tlearn: 1.0364146\ttotal: 3m 2s\tremaining: 5m 10s\n",
            "370:\tlearn: 1.0363963\ttotal: 3m 3s\tremaining: 5m 10s\n",
            "371:\tlearn: 1.0363518\ttotal: 3m 3s\tremaining: 5m 10s\n",
            "372:\tlearn: 1.0363408\ttotal: 3m 4s\tremaining: 5m 10s\n",
            "373:\tlearn: 1.0363234\ttotal: 3m 4s\tremaining: 5m 9s\n",
            "374:\tlearn: 1.0363090\ttotal: 3m 5s\tremaining: 5m 9s\n",
            "375:\tlearn: 1.0362837\ttotal: 3m 6s\tremaining: 5m 8s\n",
            "376:\tlearn: 1.0362716\ttotal: 3m 6s\tremaining: 5m 8s\n",
            "377:\tlearn: 1.0362685\ttotal: 3m 7s\tremaining: 5m 8s\n",
            "378:\tlearn: 1.0362139\ttotal: 3m 7s\tremaining: 5m 7s\n",
            "379:\tlearn: 1.0361915\ttotal: 3m 8s\tremaining: 5m 7s\n",
            "380:\tlearn: 1.0361793\ttotal: 3m 9s\tremaining: 5m 7s\n",
            "381:\tlearn: 1.0361617\ttotal: 3m 9s\tremaining: 5m 6s\n",
            "382:\tlearn: 1.0361470\ttotal: 3m 10s\tremaining: 5m 6s\n",
            "383:\tlearn: 1.0361045\ttotal: 3m 10s\tremaining: 5m 5s\n",
            "384:\tlearn: 1.0360832\ttotal: 3m 11s\tremaining: 5m 5s\n",
            "385:\tlearn: 1.0360733\ttotal: 3m 11s\tremaining: 5m 4s\n",
            "386:\tlearn: 1.0360588\ttotal: 3m 12s\tremaining: 5m 4s\n",
            "387:\tlearn: 1.0359973\ttotal: 3m 12s\tremaining: 5m 3s\n",
            "388:\tlearn: 1.0359863\ttotal: 3m 12s\tremaining: 5m 3s\n",
            "389:\tlearn: 1.0359493\ttotal: 3m 13s\tremaining: 5m 2s\n",
            "390:\tlearn: 1.0359225\ttotal: 3m 14s\tremaining: 5m 2s\n",
            "391:\tlearn: 1.0359178\ttotal: 3m 14s\tremaining: 5m 1s\n",
            "392:\tlearn: 1.0358964\ttotal: 3m 14s\tremaining: 5m 1s\n",
            "393:\tlearn: 1.0358951\ttotal: 3m 15s\tremaining: 5m\n",
            "394:\tlearn: 1.0358908\ttotal: 3m 15s\tremaining: 4m 59s\n",
            "395:\tlearn: 1.0358775\ttotal: 3m 16s\tremaining: 4m 59s\n",
            "396:\tlearn: 1.0358646\ttotal: 3m 16s\tremaining: 4m 58s\n",
            "397:\tlearn: 1.0358635\ttotal: 3m 17s\tremaining: 4m 58s\n",
            "398:\tlearn: 1.0358513\ttotal: 3m 17s\tremaining: 4m 57s\n",
            "399:\tlearn: 1.0358248\ttotal: 3m 18s\tremaining: 4m 57s\n",
            "400:\tlearn: 1.0357688\ttotal: 3m 18s\tremaining: 4m 56s\n",
            "401:\tlearn: 1.0357647\ttotal: 3m 19s\tremaining: 4m 56s\n",
            "402:\tlearn: 1.0357278\ttotal: 3m 19s\tremaining: 4m 55s\n",
            "403:\tlearn: 1.0356831\ttotal: 3m 19s\tremaining: 4m 55s\n",
            "404:\tlearn: 1.0356757\ttotal: 3m 20s\tremaining: 4m 54s\n",
            "405:\tlearn: 1.0356356\ttotal: 3m 20s\tremaining: 4m 53s\n",
            "406:\tlearn: 1.0356335\ttotal: 3m 21s\tremaining: 4m 53s\n",
            "407:\tlearn: 1.0355998\ttotal: 3m 21s\tremaining: 4m 52s\n",
            "408:\tlearn: 1.0355847\ttotal: 3m 22s\tremaining: 4m 52s\n",
            "409:\tlearn: 1.0355534\ttotal: 3m 22s\tremaining: 4m 51s\n",
            "410:\tlearn: 1.0354994\ttotal: 3m 23s\tremaining: 4m 50s\n",
            "411:\tlearn: 1.0354824\ttotal: 3m 23s\tremaining: 4m 50s\n",
            "412:\tlearn: 1.0354695\ttotal: 3m 23s\tremaining: 4m 49s\n",
            "413:\tlearn: 1.0354425\ttotal: 3m 24s\tremaining: 4m 49s\n",
            "414:\tlearn: 1.0354216\ttotal: 3m 25s\tremaining: 4m 49s\n",
            "415:\tlearn: 1.0354194\ttotal: 3m 25s\tremaining: 4m 48s\n",
            "416:\tlearn: 1.0353993\ttotal: 3m 25s\tremaining: 4m 47s\n",
            "417:\tlearn: 1.0353519\ttotal: 3m 26s\tremaining: 4m 47s\n",
            "418:\tlearn: 1.0353435\ttotal: 3m 26s\tremaining: 4m 46s\n",
            "419:\tlearn: 1.0353280\ttotal: 3m 27s\tremaining: 4m 46s\n",
            "420:\tlearn: 1.0353057\ttotal: 3m 27s\tremaining: 4m 45s\n",
            "421:\tlearn: 1.0352946\ttotal: 3m 28s\tremaining: 4m 45s\n",
            "422:\tlearn: 1.0352944\ttotal: 3m 28s\tremaining: 4m 44s\n",
            "423:\tlearn: 1.0352918\ttotal: 3m 29s\tremaining: 4m 44s\n",
            "424:\tlearn: 1.0352714\ttotal: 3m 29s\tremaining: 4m 43s\n",
            "425:\tlearn: 1.0352701\ttotal: 3m 29s\tremaining: 4m 42s\n",
            "426:\tlearn: 1.0352562\ttotal: 3m 30s\tremaining: 4m 42s\n",
            "427:\tlearn: 1.0352042\ttotal: 3m 30s\tremaining: 4m 41s\n",
            "428:\tlearn: 1.0351672\ttotal: 3m 31s\tremaining: 4m 40s\n",
            "429:\tlearn: 1.0351549\ttotal: 3m 31s\tremaining: 4m 40s\n",
            "430:\tlearn: 1.0351505\ttotal: 3m 31s\tremaining: 4m 39s\n",
            "431:\tlearn: 1.0351320\ttotal: 3m 32s\tremaining: 4m 39s\n",
            "432:\tlearn: 1.0351143\ttotal: 3m 33s\tremaining: 4m 39s\n",
            "433:\tlearn: 1.0351126\ttotal: 3m 33s\tremaining: 4m 38s\n",
            "434:\tlearn: 1.0351115\ttotal: 3m 34s\tremaining: 4m 38s\n",
            "435:\tlearn: 1.0350929\ttotal: 3m 34s\tremaining: 4m 37s\n",
            "436:\tlearn: 1.0350743\ttotal: 3m 35s\tremaining: 4m 37s\n",
            "437:\tlearn: 1.0350739\ttotal: 3m 35s\tremaining: 4m 36s\n",
            "438:\tlearn: 1.0350717\ttotal: 3m 36s\tremaining: 4m 36s\n",
            "439:\tlearn: 1.0350499\ttotal: 3m 36s\tremaining: 4m 36s\n",
            "440:\tlearn: 1.0350367\ttotal: 3m 37s\tremaining: 4m 35s\n",
            "441:\tlearn: 1.0349962\ttotal: 3m 38s\tremaining: 4m 35s\n",
            "442:\tlearn: 1.0349613\ttotal: 3m 38s\tremaining: 4m 34s\n",
            "443:\tlearn: 1.0349526\ttotal: 3m 39s\tremaining: 4m 34s\n",
            "444:\tlearn: 1.0349307\ttotal: 3m 39s\tremaining: 4m 34s\n",
            "445:\tlearn: 1.0349127\ttotal: 3m 40s\tremaining: 4m 33s\n",
            "446:\tlearn: 1.0348931\ttotal: 3m 40s\tremaining: 4m 33s\n",
            "447:\tlearn: 1.0348792\ttotal: 3m 41s\tremaining: 4m 32s\n",
            "448:\tlearn: 1.0348776\ttotal: 3m 41s\tremaining: 4m 32s\n",
            "449:\tlearn: 1.0348521\ttotal: 3m 42s\tremaining: 4m 31s\n",
            "450:\tlearn: 1.0348508\ttotal: 3m 42s\tremaining: 4m 31s\n",
            "451:\tlearn: 1.0348439\ttotal: 3m 43s\tremaining: 4m 30s\n",
            "452:\tlearn: 1.0348351\ttotal: 3m 43s\tremaining: 4m 30s\n",
            "453:\tlearn: 1.0347940\ttotal: 3m 44s\tremaining: 4m 29s\n",
            "454:\tlearn: 1.0347764\ttotal: 3m 44s\tremaining: 4m 29s\n",
            "455:\tlearn: 1.0347293\ttotal: 3m 45s\tremaining: 4m 28s\n",
            "456:\tlearn: 1.0346908\ttotal: 3m 45s\tremaining: 4m 28s\n",
            "457:\tlearn: 1.0346905\ttotal: 3m 46s\tremaining: 4m 27s\n",
            "458:\tlearn: 1.0346904\ttotal: 3m 46s\tremaining: 4m 27s\n",
            "459:\tlearn: 1.0346670\ttotal: 3m 47s\tremaining: 4m 26s\n",
            "460:\tlearn: 1.0346335\ttotal: 3m 47s\tremaining: 4m 26s\n",
            "461:\tlearn: 1.0345897\ttotal: 3m 48s\tremaining: 4m 25s\n",
            "462:\tlearn: 1.0345874\ttotal: 3m 48s\tremaining: 4m 24s\n",
            "463:\tlearn: 1.0345691\ttotal: 3m 48s\tremaining: 4m 24s\n",
            "464:\tlearn: 1.0345646\ttotal: 3m 49s\tremaining: 4m 23s\n",
            "465:\tlearn: 1.0345641\ttotal: 3m 49s\tremaining: 4m 23s\n",
            "466:\tlearn: 1.0345460\ttotal: 3m 50s\tremaining: 4m 22s\n",
            "467:\tlearn: 1.0345093\ttotal: 3m 50s\tremaining: 4m 22s\n",
            "468:\tlearn: 1.0344946\ttotal: 3m 50s\tremaining: 4m 21s\n",
            "469:\tlearn: 1.0344522\ttotal: 3m 51s\tremaining: 4m 21s\n",
            "470:\tlearn: 1.0344366\ttotal: 3m 52s\tremaining: 4m 20s\n",
            "471:\tlearn: 1.0344233\ttotal: 3m 52s\tremaining: 4m 20s\n",
            "472:\tlearn: 1.0344037\ttotal: 3m 52s\tremaining: 4m 19s\n",
            "473:\tlearn: 1.0343967\ttotal: 3m 53s\tremaining: 4m 19s\n",
            "474:\tlearn: 1.0343845\ttotal: 3m 54s\tremaining: 4m 18s\n",
            "475:\tlearn: 1.0343814\ttotal: 3m 54s\tremaining: 4m 18s\n",
            "476:\tlearn: 1.0343788\ttotal: 3m 54s\tremaining: 4m 17s\n",
            "477:\tlearn: 1.0343770\ttotal: 3m 55s\tremaining: 4m 16s\n",
            "478:\tlearn: 1.0343733\ttotal: 3m 55s\tremaining: 4m 16s\n",
            "479:\tlearn: 1.0343720\ttotal: 3m 56s\tremaining: 4m 15s\n",
            "480:\tlearn: 1.0343206\ttotal: 3m 56s\tremaining: 4m 15s\n",
            "481:\tlearn: 1.0342985\ttotal: 3m 56s\tremaining: 4m 14s\n",
            "482:\tlearn: 1.0342963\ttotal: 3m 57s\tremaining: 4m 13s\n",
            "483:\tlearn: 1.0342796\ttotal: 3m 57s\tremaining: 4m 13s\n",
            "484:\tlearn: 1.0342389\ttotal: 3m 58s\tremaining: 4m 12s\n",
            "485:\tlearn: 1.0341812\ttotal: 3m 58s\tremaining: 4m 12s\n",
            "486:\tlearn: 1.0341790\ttotal: 3m 59s\tremaining: 4m 11s\n",
            "487:\tlearn: 1.0341529\ttotal: 3m 59s\tremaining: 4m 11s\n",
            "488:\tlearn: 1.0341526\ttotal: 4m\tremaining: 4m 11s\n",
            "489:\tlearn: 1.0341522\ttotal: 4m\tremaining: 4m 10s\n",
            "490:\tlearn: 1.0341466\ttotal: 4m 1s\tremaining: 4m 10s\n",
            "491:\tlearn: 1.0341241\ttotal: 4m 1s\tremaining: 4m 9s\n",
            "492:\tlearn: 1.0341157\ttotal: 4m 2s\tremaining: 4m 9s\n",
            "493:\tlearn: 1.0340959\ttotal: 4m 3s\tremaining: 4m 8s\n",
            "494:\tlearn: 1.0340817\ttotal: 4m 3s\tremaining: 4m 8s\n",
            "495:\tlearn: 1.0340738\ttotal: 4m 3s\tremaining: 4m 7s\n",
            "496:\tlearn: 1.0340641\ttotal: 4m 4s\tremaining: 4m 7s\n",
            "497:\tlearn: 1.0340498\ttotal: 4m 4s\tremaining: 4m 6s\n",
            "498:\tlearn: 1.0340497\ttotal: 4m 5s\tremaining: 4m 6s\n",
            "499:\tlearn: 1.0340308\ttotal: 4m 6s\tremaining: 4m 6s\n",
            "500:\tlearn: 1.0340163\ttotal: 4m 6s\tremaining: 4m 5s\n",
            "501:\tlearn: 1.0339950\ttotal: 4m 7s\tremaining: 4m 5s\n",
            "502:\tlearn: 1.0339534\ttotal: 4m 7s\tremaining: 4m 5s\n",
            "503:\tlearn: 1.0339448\ttotal: 4m 8s\tremaining: 4m 4s\n",
            "504:\tlearn: 1.0339411\ttotal: 4m 8s\tremaining: 4m 3s\n",
            "505:\tlearn: 1.0339328\ttotal: 4m 9s\tremaining: 4m 3s\n",
            "506:\tlearn: 1.0339237\ttotal: 4m 9s\tremaining: 4m 3s\n",
            "507:\tlearn: 1.0339210\ttotal: 4m 10s\tremaining: 4m 2s\n",
            "508:\tlearn: 1.0339029\ttotal: 4m 10s\tremaining: 4m 2s\n",
            "509:\tlearn: 1.0339005\ttotal: 4m 11s\tremaining: 4m 1s\n",
            "510:\tlearn: 1.0338854\ttotal: 4m 11s\tremaining: 4m 1s\n",
            "511:\tlearn: 1.0338404\ttotal: 4m 12s\tremaining: 4m\n",
            "512:\tlearn: 1.0338008\ttotal: 4m 12s\tremaining: 4m\n",
            "513:\tlearn: 1.0337695\ttotal: 4m 13s\tremaining: 3m 59s\n",
            "514:\tlearn: 1.0337531\ttotal: 4m 13s\tremaining: 3m 58s\n",
            "515:\tlearn: 1.0337371\ttotal: 4m 14s\tremaining: 3m 58s\n",
            "516:\tlearn: 1.0337213\ttotal: 4m 14s\tremaining: 3m 58s\n",
            "517:\tlearn: 1.0337068\ttotal: 4m 15s\tremaining: 3m 57s\n",
            "518:\tlearn: 1.0337040\ttotal: 4m 15s\tremaining: 3m 56s\n",
            "519:\tlearn: 1.0336809\ttotal: 4m 16s\tremaining: 3m 56s\n",
            "520:\tlearn: 1.0336784\ttotal: 4m 16s\tremaining: 3m 55s\n",
            "521:\tlearn: 1.0336708\ttotal: 4m 17s\tremaining: 3m 55s\n",
            "522:\tlearn: 1.0336548\ttotal: 4m 17s\tremaining: 3m 54s\n",
            "523:\tlearn: 1.0336511\ttotal: 4m 18s\tremaining: 3m 54s\n",
            "524:\tlearn: 1.0336367\ttotal: 4m 18s\tremaining: 3m 54s\n",
            "525:\tlearn: 1.0336223\ttotal: 4m 19s\tremaining: 3m 53s\n",
            "526:\tlearn: 1.0336177\ttotal: 4m 19s\tremaining: 3m 53s\n",
            "527:\tlearn: 1.0336175\ttotal: 4m 20s\tremaining: 3m 52s\n",
            "528:\tlearn: 1.0336139\ttotal: 4m 20s\tremaining: 3m 52s\n",
            "529:\tlearn: 1.0336119\ttotal: 4m 21s\tremaining: 3m 51s\n",
            "530:\tlearn: 1.0336080\ttotal: 4m 21s\tremaining: 3m 51s\n",
            "531:\tlearn: 1.0335889\ttotal: 4m 22s\tremaining: 3m 50s\n",
            "532:\tlearn: 1.0335881\ttotal: 4m 22s\tremaining: 3m 49s\n",
            "533:\tlearn: 1.0335775\ttotal: 4m 23s\tremaining: 3m 49s\n",
            "534:\tlearn: 1.0335591\ttotal: 4m 23s\tremaining: 3m 49s\n",
            "535:\tlearn: 1.0335308\ttotal: 4m 23s\tremaining: 3m 48s\n",
            "536:\tlearn: 1.0334584\ttotal: 4m 24s\tremaining: 3m 47s\n",
            "537:\tlearn: 1.0334371\ttotal: 4m 24s\tremaining: 3m 47s\n",
            "538:\tlearn: 1.0334342\ttotal: 4m 25s\tremaining: 3m 46s\n",
            "539:\tlearn: 1.0334230\ttotal: 4m 25s\tremaining: 3m 46s\n",
            "540:\tlearn: 1.0334209\ttotal: 4m 26s\tremaining: 3m 45s\n",
            "541:\tlearn: 1.0334196\ttotal: 4m 26s\tremaining: 3m 45s\n",
            "542:\tlearn: 1.0333598\ttotal: 4m 27s\tremaining: 3m 44s\n",
            "543:\tlearn: 1.0333423\ttotal: 4m 27s\tremaining: 3m 44s\n",
            "544:\tlearn: 1.0333055\ttotal: 4m 28s\tremaining: 3m 43s\n",
            "545:\tlearn: 1.0331855\ttotal: 4m 28s\tremaining: 3m 43s\n",
            "546:\tlearn: 1.0331742\ttotal: 4m 29s\tremaining: 3m 42s\n",
            "547:\tlearn: 1.0331715\ttotal: 4m 29s\tremaining: 3m 42s\n",
            "548:\tlearn: 1.0331479\ttotal: 4m 30s\tremaining: 3m 42s\n",
            "549:\tlearn: 1.0331464\ttotal: 4m 30s\tremaining: 3m 41s\n",
            "550:\tlearn: 1.0331260\ttotal: 4m 31s\tremaining: 3m 40s\n",
            "551:\tlearn: 1.0331011\ttotal: 4m 31s\tremaining: 3m 40s\n",
            "552:\tlearn: 1.0330903\ttotal: 4m 32s\tremaining: 3m 39s\n",
            "553:\tlearn: 1.0330815\ttotal: 4m 32s\tremaining: 3m 39s\n",
            "554:\tlearn: 1.0330733\ttotal: 4m 32s\tremaining: 3m 38s\n",
            "555:\tlearn: 1.0330450\ttotal: 4m 33s\tremaining: 3m 38s\n",
            "556:\tlearn: 1.0330362\ttotal: 4m 33s\tremaining: 3m 37s\n",
            "557:\tlearn: 1.0330219\ttotal: 4m 34s\tremaining: 3m 37s\n",
            "558:\tlearn: 1.0330080\ttotal: 4m 34s\tremaining: 3m 36s\n",
            "559:\tlearn: 1.0329878\ttotal: 4m 35s\tremaining: 3m 36s\n",
            "560:\tlearn: 1.0329711\ttotal: 4m 35s\tremaining: 3m 35s\n",
            "561:\tlearn: 1.0329567\ttotal: 4m 36s\tremaining: 3m 35s\n",
            "562:\tlearn: 1.0329555\ttotal: 4m 36s\tremaining: 3m 34s\n",
            "563:\tlearn: 1.0329501\ttotal: 4m 37s\tremaining: 3m 34s\n",
            "564:\tlearn: 1.0329433\ttotal: 4m 37s\tremaining: 3m 33s\n",
            "565:\tlearn: 1.0329415\ttotal: 4m 37s\tremaining: 3m 33s\n",
            "566:\tlearn: 1.0329160\ttotal: 4m 38s\tremaining: 3m 32s\n",
            "567:\tlearn: 1.0329134\ttotal: 4m 39s\tremaining: 3m 32s\n",
            "568:\tlearn: 1.0328868\ttotal: 4m 39s\tremaining: 3m 31s\n",
            "569:\tlearn: 1.0328612\ttotal: 4m 40s\tremaining: 3m 31s\n",
            "570:\tlearn: 1.0328604\ttotal: 4m 40s\tremaining: 3m 30s\n",
            "571:\tlearn: 1.0328458\ttotal: 4m 41s\tremaining: 3m 30s\n",
            "572:\tlearn: 1.0328349\ttotal: 4m 41s\tremaining: 3m 29s\n",
            "573:\tlearn: 1.0327814\ttotal: 4m 42s\tremaining: 3m 29s\n",
            "574:\tlearn: 1.0327811\ttotal: 4m 42s\tremaining: 3m 28s\n",
            "575:\tlearn: 1.0327753\ttotal: 4m 43s\tremaining: 3m 28s\n",
            "576:\tlearn: 1.0327722\ttotal: 4m 43s\tremaining: 3m 28s\n",
            "577:\tlearn: 1.0327577\ttotal: 4m 44s\tremaining: 3m 27s\n",
            "578:\tlearn: 1.0327462\ttotal: 4m 44s\tremaining: 3m 27s\n",
            "579:\tlearn: 1.0327014\ttotal: 4m 45s\tremaining: 3m 26s\n",
            "580:\tlearn: 1.0326734\ttotal: 4m 46s\tremaining: 3m 26s\n",
            "581:\tlearn: 1.0326721\ttotal: 4m 46s\tremaining: 3m 25s\n",
            "582:\tlearn: 1.0326706\ttotal: 4m 46s\tremaining: 3m 25s\n",
            "583:\tlearn: 1.0326665\ttotal: 4m 47s\tremaining: 3m 24s\n",
            "584:\tlearn: 1.0326557\ttotal: 4m 47s\tremaining: 3m 24s\n",
            "585:\tlearn: 1.0326384\ttotal: 4m 48s\tremaining: 3m 23s\n",
            "586:\tlearn: 1.0326073\ttotal: 4m 48s\tremaining: 3m 23s\n",
            "587:\tlearn: 1.0326055\ttotal: 4m 49s\tremaining: 3m 22s\n",
            "588:\tlearn: 1.0325854\ttotal: 4m 49s\tremaining: 3m 22s\n",
            "589:\tlearn: 1.0325848\ttotal: 4m 49s\tremaining: 3m 21s\n",
            "590:\tlearn: 1.0325577\ttotal: 4m 50s\tremaining: 3m 20s\n",
            "591:\tlearn: 1.0325366\ttotal: 4m 50s\tremaining: 3m 20s\n",
            "592:\tlearn: 1.0325333\ttotal: 4m 51s\tremaining: 3m 19s\n",
            "593:\tlearn: 1.0325242\ttotal: 4m 51s\tremaining: 3m 19s\n",
            "594:\tlearn: 1.0325234\ttotal: 4m 52s\tremaining: 3m 18s\n",
            "595:\tlearn: 1.0325180\ttotal: 4m 52s\tremaining: 3m 18s\n",
            "596:\tlearn: 1.0324885\ttotal: 4m 52s\tremaining: 3m 17s\n",
            "597:\tlearn: 1.0324765\ttotal: 4m 53s\tremaining: 3m 17s\n",
            "598:\tlearn: 1.0324711\ttotal: 4m 53s\tremaining: 3m 16s\n",
            "599:\tlearn: 1.0324701\ttotal: 4m 54s\tremaining: 3m 16s\n",
            "600:\tlearn: 1.0324648\ttotal: 4m 54s\tremaining: 3m 15s\n",
            "601:\tlearn: 1.0324418\ttotal: 4m 55s\tremaining: 3m 15s\n",
            "602:\tlearn: 1.0324308\ttotal: 4m 55s\tremaining: 3m 14s\n",
            "603:\tlearn: 1.0324214\ttotal: 4m 56s\tremaining: 3m 14s\n",
            "604:\tlearn: 1.0324129\ttotal: 4m 56s\tremaining: 3m 13s\n",
            "605:\tlearn: 1.0324104\ttotal: 4m 57s\tremaining: 3m 13s\n",
            "606:\tlearn: 1.0323949\ttotal: 4m 58s\tremaining: 3m 12s\n",
            "607:\tlearn: 1.0323517\ttotal: 4m 58s\tremaining: 3m 12s\n",
            "608:\tlearn: 1.0323458\ttotal: 4m 59s\tremaining: 3m 12s\n",
            "609:\tlearn: 1.0323354\ttotal: 4m 59s\tremaining: 3m 11s\n",
            "610:\tlearn: 1.0323227\ttotal: 5m\tremaining: 3m 11s\n",
            "611:\tlearn: 1.0323194\ttotal: 5m\tremaining: 3m 10s\n",
            "612:\tlearn: 1.0323040\ttotal: 5m 1s\tremaining: 3m 10s\n",
            "613:\tlearn: 1.0322933\ttotal: 5m 1s\tremaining: 3m 9s\n",
            "614:\tlearn: 1.0322832\ttotal: 5m 2s\tremaining: 3m 9s\n",
            "615:\tlearn: 1.0322454\ttotal: 5m 2s\tremaining: 3m 8s\n",
            "616:\tlearn: 1.0322420\ttotal: 5m 3s\tremaining: 3m 8s\n",
            "617:\tlearn: 1.0322365\ttotal: 5m 3s\tremaining: 3m 7s\n",
            "618:\tlearn: 1.0322328\ttotal: 5m 3s\tremaining: 3m 7s\n",
            "619:\tlearn: 1.0322204\ttotal: 5m 4s\tremaining: 3m 6s\n",
            "620:\tlearn: 1.0321976\ttotal: 5m 4s\tremaining: 3m 6s\n",
            "621:\tlearn: 1.0321867\ttotal: 5m 5s\tremaining: 3m 5s\n",
            "622:\tlearn: 1.0321751\ttotal: 5m 5s\tremaining: 3m 5s\n",
            "623:\tlearn: 1.0321727\ttotal: 5m 6s\tremaining: 3m 4s\n",
            "624:\tlearn: 1.0321706\ttotal: 5m 6s\tremaining: 3m 3s\n",
            "625:\tlearn: 1.0321571\ttotal: 5m 7s\tremaining: 3m 3s\n",
            "626:\tlearn: 1.0321544\ttotal: 5m 7s\tremaining: 3m 2s\n",
            "627:\tlearn: 1.0321253\ttotal: 5m 7s\tremaining: 3m 2s\n",
            "628:\tlearn: 1.0321217\ttotal: 5m 8s\tremaining: 3m 1s\n",
            "629:\tlearn: 1.0321169\ttotal: 5m 8s\tremaining: 3m 1s\n",
            "630:\tlearn: 1.0320792\ttotal: 5m 9s\tremaining: 3m\n",
            "631:\tlearn: 1.0320607\ttotal: 5m 9s\tremaining: 3m\n",
            "632:\tlearn: 1.0320510\ttotal: 5m 10s\tremaining: 2m 59s\n",
            "633:\tlearn: 1.0320238\ttotal: 5m 10s\tremaining: 2m 59s\n",
            "634:\tlearn: 1.0320190\ttotal: 5m 11s\tremaining: 2m 59s\n",
            "635:\tlearn: 1.0319589\ttotal: 5m 11s\tremaining: 2m 58s\n",
            "636:\tlearn: 1.0319587\ttotal: 5m 12s\tremaining: 2m 57s\n",
            "637:\tlearn: 1.0319386\ttotal: 5m 12s\tremaining: 2m 57s\n",
            "638:\tlearn: 1.0319124\ttotal: 5m 13s\tremaining: 2m 56s\n",
            "639:\tlearn: 1.0319076\ttotal: 5m 13s\tremaining: 2m 56s\n",
            "640:\tlearn: 1.0318943\ttotal: 5m 14s\tremaining: 2m 55s\n",
            "641:\tlearn: 1.0318927\ttotal: 5m 14s\tremaining: 2m 55s\n",
            "642:\tlearn: 1.0318472\ttotal: 5m 15s\tremaining: 2m 54s\n",
            "643:\tlearn: 1.0318451\ttotal: 5m 15s\tremaining: 2m 54s\n",
            "644:\tlearn: 1.0318438\ttotal: 5m 16s\tremaining: 2m 53s\n",
            "645:\tlearn: 1.0318048\ttotal: 5m 16s\tremaining: 2m 53s\n",
            "646:\tlearn: 1.0318003\ttotal: 5m 16s\tremaining: 2m 52s\n",
            "647:\tlearn: 1.0317911\ttotal: 5m 17s\tremaining: 2m 52s\n",
            "648:\tlearn: 1.0317756\ttotal: 5m 18s\tremaining: 2m 52s\n",
            "649:\tlearn: 1.0317693\ttotal: 5m 18s\tremaining: 2m 51s\n",
            "650:\tlearn: 1.0317566\ttotal: 5m 19s\tremaining: 2m 51s\n",
            "651:\tlearn: 1.0317541\ttotal: 5m 19s\tremaining: 2m 50s\n",
            "652:\tlearn: 1.0317390\ttotal: 5m 20s\tremaining: 2m 50s\n",
            "653:\tlearn: 1.0317266\ttotal: 5m 20s\tremaining: 2m 49s\n",
            "654:\tlearn: 1.0317166\ttotal: 5m 21s\tremaining: 2m 49s\n",
            "655:\tlearn: 1.0317157\ttotal: 5m 21s\tremaining: 2m 48s\n",
            "656:\tlearn: 1.0317120\ttotal: 5m 22s\tremaining: 2m 48s\n",
            "657:\tlearn: 1.0317076\ttotal: 5m 22s\tremaining: 2m 47s\n",
            "658:\tlearn: 1.0316989\ttotal: 5m 23s\tremaining: 2m 47s\n",
            "659:\tlearn: 1.0316661\ttotal: 5m 23s\tremaining: 2m 46s\n",
            "660:\tlearn: 1.0316629\ttotal: 5m 24s\tremaining: 2m 46s\n",
            "661:\tlearn: 1.0316604\ttotal: 5m 24s\tremaining: 2m 45s\n",
            "662:\tlearn: 1.0316477\ttotal: 5m 25s\tremaining: 2m 45s\n",
            "663:\tlearn: 1.0316339\ttotal: 5m 25s\tremaining: 2m 44s\n",
            "664:\tlearn: 1.0316204\ttotal: 5m 26s\tremaining: 2m 44s\n",
            "665:\tlearn: 1.0316140\ttotal: 5m 26s\tremaining: 2m 43s\n",
            "666:\tlearn: 1.0315832\ttotal: 5m 27s\tremaining: 2m 43s\n",
            "667:\tlearn: 1.0315626\ttotal: 5m 28s\tremaining: 2m 43s\n",
            "668:\tlearn: 1.0315614\ttotal: 5m 28s\tremaining: 2m 42s\n",
            "669:\tlearn: 1.0315384\ttotal: 5m 29s\tremaining: 2m 42s\n",
            "670:\tlearn: 1.0315250\ttotal: 5m 29s\tremaining: 2m 41s\n",
            "671:\tlearn: 1.0314484\ttotal: 5m 30s\tremaining: 2m 41s\n",
            "672:\tlearn: 1.0314474\ttotal: 5m 30s\tremaining: 2m 40s\n",
            "673:\tlearn: 1.0314314\ttotal: 5m 31s\tremaining: 2m 40s\n",
            "674:\tlearn: 1.0314273\ttotal: 5m 31s\tremaining: 2m 39s\n",
            "675:\tlearn: 1.0314177\ttotal: 5m 32s\tremaining: 2m 39s\n",
            "676:\tlearn: 1.0314174\ttotal: 5m 32s\tremaining: 2m 38s\n",
            "677:\tlearn: 1.0314155\ttotal: 5m 33s\tremaining: 2m 38s\n",
            "678:\tlearn: 1.0314048\ttotal: 5m 33s\tremaining: 2m 37s\n",
            "679:\tlearn: 1.0314047\ttotal: 5m 34s\tremaining: 2m 37s\n",
            "680:\tlearn: 1.0313998\ttotal: 5m 35s\tremaining: 2m 37s\n",
            "681:\tlearn: 1.0313755\ttotal: 5m 35s\tremaining: 2m 36s\n",
            "682:\tlearn: 1.0313739\ttotal: 5m 36s\tremaining: 2m 36s\n",
            "683:\tlearn: 1.0313664\ttotal: 5m 36s\tremaining: 2m 35s\n",
            "684:\tlearn: 1.0313661\ttotal: 5m 37s\tremaining: 2m 35s\n",
            "685:\tlearn: 1.0313621\ttotal: 5m 37s\tremaining: 2m 34s\n",
            "686:\tlearn: 1.0313442\ttotal: 5m 38s\tremaining: 2m 34s\n",
            "687:\tlearn: 1.0313407\ttotal: 5m 38s\tremaining: 2m 33s\n",
            "688:\tlearn: 1.0313204\ttotal: 5m 39s\tremaining: 2m 33s\n",
            "689:\tlearn: 1.0312498\ttotal: 5m 40s\tremaining: 2m 32s\n",
            "690:\tlearn: 1.0312266\ttotal: 5m 41s\tremaining: 2m 32s\n",
            "691:\tlearn: 1.0312136\ttotal: 5m 42s\tremaining: 2m 32s\n",
            "692:\tlearn: 1.0312030\ttotal: 5m 42s\tremaining: 2m 31s\n",
            "693:\tlearn: 1.0311972\ttotal: 5m 43s\tremaining: 2m 31s\n",
            "694:\tlearn: 1.0311849\ttotal: 5m 43s\tremaining: 2m 30s\n",
            "695:\tlearn: 1.0311747\ttotal: 5m 44s\tremaining: 2m 30s\n",
            "696:\tlearn: 1.0311557\ttotal: 5m 44s\tremaining: 2m 29s\n",
            "697:\tlearn: 1.0311540\ttotal: 5m 45s\tremaining: 2m 29s\n",
            "698:\tlearn: 1.0311396\ttotal: 5m 45s\tremaining: 2m 28s\n",
            "699:\tlearn: 1.0311368\ttotal: 5m 46s\tremaining: 2m 28s\n",
            "700:\tlearn: 1.0311193\ttotal: 5m 46s\tremaining: 2m 27s\n",
            "701:\tlearn: 1.0311068\ttotal: 5m 47s\tremaining: 2m 27s\n",
            "702:\tlearn: 1.0311033\ttotal: 5m 47s\tremaining: 2m 26s\n",
            "703:\tlearn: 1.0310872\ttotal: 5m 48s\tremaining: 2m 26s\n",
            "704:\tlearn: 1.0310859\ttotal: 5m 48s\tremaining: 2m 25s\n",
            "705:\tlearn: 1.0310691\ttotal: 5m 49s\tremaining: 2m 25s\n",
            "706:\tlearn: 1.0310423\ttotal: 5m 49s\tremaining: 2m 24s\n",
            "707:\tlearn: 1.0310371\ttotal: 5m 50s\tremaining: 2m 24s\n",
            "708:\tlearn: 1.0310135\ttotal: 5m 50s\tremaining: 2m 23s\n",
            "709:\tlearn: 1.0309761\ttotal: 5m 51s\tremaining: 2m 23s\n",
            "710:\tlearn: 1.0309701\ttotal: 5m 51s\tremaining: 2m 22s\n",
            "711:\tlearn: 1.0309671\ttotal: 5m 52s\tremaining: 2m 22s\n",
            "712:\tlearn: 1.0309501\ttotal: 5m 52s\tremaining: 2m 21s\n",
            "713:\tlearn: 1.0309294\ttotal: 5m 53s\tremaining: 2m 21s\n",
            "714:\tlearn: 1.0309178\ttotal: 5m 53s\tremaining: 2m 20s\n",
            "715:\tlearn: 1.0308964\ttotal: 5m 54s\tremaining: 2m 20s\n",
            "716:\tlearn: 1.0308849\ttotal: 5m 54s\tremaining: 2m 19s\n",
            "717:\tlearn: 1.0308764\ttotal: 5m 55s\tremaining: 2m 19s\n",
            "718:\tlearn: 1.0308594\ttotal: 5m 55s\tremaining: 2m 18s\n",
            "719:\tlearn: 1.0308514\ttotal: 5m 55s\tremaining: 2m 18s\n",
            "720:\tlearn: 1.0308445\ttotal: 5m 56s\tremaining: 2m 17s\n",
            "721:\tlearn: 1.0308394\ttotal: 5m 56s\tremaining: 2m 17s\n",
            "722:\tlearn: 1.0308364\ttotal: 5m 57s\tremaining: 2m 16s\n",
            "723:\tlearn: 1.0308032\ttotal: 5m 57s\tremaining: 2m 16s\n",
            "724:\tlearn: 1.0307997\ttotal: 5m 58s\tremaining: 2m 15s\n",
            "725:\tlearn: 1.0307927\ttotal: 5m 58s\tremaining: 2m 15s\n",
            "726:\tlearn: 1.0307888\ttotal: 5m 59s\tremaining: 2m 14s\n",
            "727:\tlearn: 1.0307849\ttotal: 5m 59s\tremaining: 2m 14s\n",
            "728:\tlearn: 1.0307819\ttotal: 6m\tremaining: 2m 13s\n",
            "729:\tlearn: 1.0307552\ttotal: 6m\tremaining: 2m 13s\n",
            "730:\tlearn: 1.0307533\ttotal: 6m 1s\tremaining: 2m 12s\n",
            "731:\tlearn: 1.0307530\ttotal: 6m 1s\tremaining: 2m 12s\n",
            "732:\tlearn: 1.0307161\ttotal: 6m 2s\tremaining: 2m 11s\n",
            "733:\tlearn: 1.0307002\ttotal: 6m 2s\tremaining: 2m 11s\n",
            "734:\tlearn: 1.0306996\ttotal: 6m 3s\tremaining: 2m 11s\n",
            "735:\tlearn: 1.0306977\ttotal: 6m 3s\tremaining: 2m 10s\n",
            "736:\tlearn: 1.0306869\ttotal: 6m 4s\tremaining: 2m 10s\n",
            "737:\tlearn: 1.0306497\ttotal: 6m 5s\tremaining: 2m 9s\n",
            "738:\tlearn: 1.0306329\ttotal: 6m 5s\tremaining: 2m 9s\n",
            "739:\tlearn: 1.0306160\ttotal: 6m 6s\tremaining: 2m 8s\n",
            "740:\tlearn: 1.0306043\ttotal: 6m 6s\tremaining: 2m 8s\n",
            "741:\tlearn: 1.0305701\ttotal: 6m 7s\tremaining: 2m 7s\n",
            "742:\tlearn: 1.0305635\ttotal: 6m 7s\tremaining: 2m 7s\n",
            "743:\tlearn: 1.0305618\ttotal: 6m 8s\tremaining: 2m 6s\n",
            "744:\tlearn: 1.0305303\ttotal: 6m 8s\tremaining: 2m 6s\n",
            "745:\tlearn: 1.0305071\ttotal: 6m 9s\tremaining: 2m 5s\n",
            "746:\tlearn: 1.0305028\ttotal: 6m 9s\tremaining: 2m 5s\n",
            "747:\tlearn: 1.0304988\ttotal: 6m 10s\tremaining: 2m 4s\n",
            "748:\tlearn: 1.0304874\ttotal: 6m 10s\tremaining: 2m 4s\n",
            "749:\tlearn: 1.0304642\ttotal: 6m 11s\tremaining: 2m 3s\n",
            "750:\tlearn: 1.0304601\ttotal: 6m 11s\tremaining: 2m 3s\n",
            "751:\tlearn: 1.0304366\ttotal: 6m 12s\tremaining: 2m 2s\n",
            "752:\tlearn: 1.0304248\ttotal: 6m 13s\tremaining: 2m 2s\n",
            "753:\tlearn: 1.0303911\ttotal: 6m 13s\tremaining: 2m 1s\n",
            "754:\tlearn: 1.0303892\ttotal: 6m 14s\tremaining: 2m 1s\n",
            "755:\tlearn: 1.0303827\ttotal: 6m 14s\tremaining: 2m\n",
            "756:\tlearn: 1.0303825\ttotal: 6m 14s\tremaining: 2m\n",
            "757:\tlearn: 1.0303779\ttotal: 6m 15s\tremaining: 1m 59s\n",
            "758:\tlearn: 1.0303618\ttotal: 6m 15s\tremaining: 1m 59s\n",
            "759:\tlearn: 1.0303579\ttotal: 6m 16s\tremaining: 1m 58s\n",
            "760:\tlearn: 1.0303499\ttotal: 6m 16s\tremaining: 1m 58s\n",
            "761:\tlearn: 1.0303495\ttotal: 6m 17s\tremaining: 1m 57s\n",
            "762:\tlearn: 1.0303492\ttotal: 6m 17s\tremaining: 1m 57s\n",
            "763:\tlearn: 1.0303378\ttotal: 6m 18s\tremaining: 1m 56s\n",
            "764:\tlearn: 1.0303277\ttotal: 6m 18s\tremaining: 1m 56s\n",
            "765:\tlearn: 1.0303050\ttotal: 6m 19s\tremaining: 1m 55s\n",
            "766:\tlearn: 1.0302700\ttotal: 6m 19s\tremaining: 1m 55s\n",
            "767:\tlearn: 1.0302683\ttotal: 6m 20s\tremaining: 1m 54s\n",
            "768:\tlearn: 1.0301947\ttotal: 6m 20s\tremaining: 1m 54s\n",
            "769:\tlearn: 1.0301637\ttotal: 6m 20s\tremaining: 1m 53s\n",
            "770:\tlearn: 1.0301628\ttotal: 6m 21s\tremaining: 1m 53s\n",
            "771:\tlearn: 1.0301141\ttotal: 6m 21s\tremaining: 1m 52s\n",
            "772:\tlearn: 1.0301004\ttotal: 6m 22s\tremaining: 1m 52s\n",
            "773:\tlearn: 1.0300906\ttotal: 6m 23s\tremaining: 1m 51s\n",
            "774:\tlearn: 1.0300877\ttotal: 6m 23s\tremaining: 1m 51s\n",
            "775:\tlearn: 1.0300738\ttotal: 6m 24s\tremaining: 1m 50s\n",
            "776:\tlearn: 1.0300730\ttotal: 6m 24s\tremaining: 1m 50s\n",
            "777:\tlearn: 1.0300692\ttotal: 6m 25s\tremaining: 1m 49s\n",
            "778:\tlearn: 1.0300506\ttotal: 6m 25s\tremaining: 1m 49s\n",
            "779:\tlearn: 1.0300430\ttotal: 6m 26s\tremaining: 1m 48s\n",
            "780:\tlearn: 1.0300398\ttotal: 6m 26s\tremaining: 1m 48s\n",
            "781:\tlearn: 1.0300347\ttotal: 6m 26s\tremaining: 1m 47s\n",
            "782:\tlearn: 1.0300302\ttotal: 6m 27s\tremaining: 1m 47s\n",
            "783:\tlearn: 1.0300284\ttotal: 6m 28s\tremaining: 1m 46s\n",
            "784:\tlearn: 1.0300242\ttotal: 6m 28s\tremaining: 1m 46s\n",
            "785:\tlearn: 1.0300166\ttotal: 6m 29s\tremaining: 1m 45s\n",
            "786:\tlearn: 1.0300155\ttotal: 6m 29s\tremaining: 1m 45s\n",
            "787:\tlearn: 1.0299960\ttotal: 6m 30s\tremaining: 1m 45s\n",
            "788:\tlearn: 1.0299837\ttotal: 6m 31s\tremaining: 1m 44s\n",
            "789:\tlearn: 1.0299835\ttotal: 6m 31s\tremaining: 1m 44s\n",
            "790:\tlearn: 1.0299554\ttotal: 6m 32s\tremaining: 1m 43s\n",
            "791:\tlearn: 1.0299528\ttotal: 6m 32s\tremaining: 1m 43s\n",
            "792:\tlearn: 1.0299419\ttotal: 6m 33s\tremaining: 1m 42s\n",
            "793:\tlearn: 1.0299416\ttotal: 6m 33s\tremaining: 1m 42s\n",
            "794:\tlearn: 1.0299404\ttotal: 6m 33s\tremaining: 1m 41s\n",
            "795:\tlearn: 1.0299114\ttotal: 6m 34s\tremaining: 1m 41s\n",
            "796:\tlearn: 1.0298854\ttotal: 6m 34s\tremaining: 1m 40s\n",
            "797:\tlearn: 1.0298564\ttotal: 6m 35s\tremaining: 1m 40s\n",
            "798:\tlearn: 1.0298551\ttotal: 6m 35s\tremaining: 1m 39s\n",
            "799:\tlearn: 1.0298372\ttotal: 6m 36s\tremaining: 1m 39s\n",
            "800:\tlearn: 1.0298344\ttotal: 6m 36s\tremaining: 1m 38s\n",
            "801:\tlearn: 1.0298208\ttotal: 6m 37s\tremaining: 1m 38s\n",
            "802:\tlearn: 1.0298083\ttotal: 6m 37s\tremaining: 1m 37s\n",
            "803:\tlearn: 1.0297976\ttotal: 6m 38s\tremaining: 1m 37s\n",
            "804:\tlearn: 1.0297968\ttotal: 6m 38s\tremaining: 1m 36s\n",
            "805:\tlearn: 1.0297937\ttotal: 6m 39s\tremaining: 1m 36s\n",
            "806:\tlearn: 1.0297666\ttotal: 6m 39s\tremaining: 1m 35s\n",
            "807:\tlearn: 1.0297615\ttotal: 6m 40s\tremaining: 1m 35s\n",
            "808:\tlearn: 1.0297491\ttotal: 6m 41s\tremaining: 1m 34s\n",
            "809:\tlearn: 1.0297424\ttotal: 6m 41s\tremaining: 1m 34s\n",
            "810:\tlearn: 1.0297284\ttotal: 6m 42s\tremaining: 1m 33s\n",
            "811:\tlearn: 1.0297282\ttotal: 6m 42s\tremaining: 1m 33s\n",
            "812:\tlearn: 1.0297247\ttotal: 6m 43s\tremaining: 1m 32s\n",
            "813:\tlearn: 1.0297127\ttotal: 6m 44s\tremaining: 1m 32s\n",
            "814:\tlearn: 1.0297103\ttotal: 6m 44s\tremaining: 1m 31s\n",
            "815:\tlearn: 1.0296982\ttotal: 6m 45s\tremaining: 1m 31s\n",
            "816:\tlearn: 1.0296966\ttotal: 6m 45s\tremaining: 1m 30s\n",
            "817:\tlearn: 1.0296957\ttotal: 6m 45s\tremaining: 1m 30s\n",
            "818:\tlearn: 1.0296955\ttotal: 6m 46s\tremaining: 1m 29s\n",
            "819:\tlearn: 1.0296910\ttotal: 6m 46s\tremaining: 1m 29s\n",
            "820:\tlearn: 1.0296712\ttotal: 6m 47s\tremaining: 1m 28s\n",
            "821:\tlearn: 1.0296682\ttotal: 6m 47s\tremaining: 1m 28s\n",
            "822:\tlearn: 1.0296650\ttotal: 6m 48s\tremaining: 1m 27s\n",
            "823:\tlearn: 1.0296471\ttotal: 6m 48s\tremaining: 1m 27s\n",
            "824:\tlearn: 1.0296276\ttotal: 6m 49s\tremaining: 1m 26s\n",
            "825:\tlearn: 1.0296243\ttotal: 6m 49s\tremaining: 1m 26s\n",
            "826:\tlearn: 1.0296106\ttotal: 6m 50s\tremaining: 1m 25s\n",
            "827:\tlearn: 1.0296043\ttotal: 6m 50s\tremaining: 1m 25s\n",
            "828:\tlearn: 1.0295987\ttotal: 6m 51s\tremaining: 1m 24s\n",
            "829:\tlearn: 1.0295902\ttotal: 6m 51s\tremaining: 1m 24s\n",
            "830:\tlearn: 1.0295873\ttotal: 6m 52s\tremaining: 1m 23s\n",
            "831:\tlearn: 1.0295731\ttotal: 6m 52s\tremaining: 1m 23s\n",
            "832:\tlearn: 1.0295659\ttotal: 6m 53s\tremaining: 1m 22s\n",
            "833:\tlearn: 1.0295610\ttotal: 6m 53s\tremaining: 1m 22s\n",
            "834:\tlearn: 1.0295588\ttotal: 6m 54s\tremaining: 1m 21s\n",
            "835:\tlearn: 1.0295490\ttotal: 6m 54s\tremaining: 1m 21s\n",
            "836:\tlearn: 1.0295380\ttotal: 6m 55s\tremaining: 1m 20s\n",
            "837:\tlearn: 1.0295364\ttotal: 6m 55s\tremaining: 1m 20s\n",
            "838:\tlearn: 1.0295358\ttotal: 6m 55s\tremaining: 1m 19s\n",
            "839:\tlearn: 1.0295248\ttotal: 6m 56s\tremaining: 1m 19s\n",
            "840:\tlearn: 1.0294847\ttotal: 6m 56s\tremaining: 1m 18s\n",
            "841:\tlearn: 1.0294818\ttotal: 6m 57s\tremaining: 1m 18s\n",
            "842:\tlearn: 1.0294761\ttotal: 6m 58s\tremaining: 1m 17s\n",
            "843:\tlearn: 1.0294679\ttotal: 6m 58s\tremaining: 1m 17s\n",
            "844:\tlearn: 1.0294387\ttotal: 6m 59s\tremaining: 1m 16s\n",
            "845:\tlearn: 1.0294381\ttotal: 6m 59s\tremaining: 1m 16s\n",
            "846:\tlearn: 1.0294376\ttotal: 6m 59s\tremaining: 1m 15s\n",
            "847:\tlearn: 1.0294357\ttotal: 7m\tremaining: 1m 15s\n",
            "848:\tlearn: 1.0294277\ttotal: 7m\tremaining: 1m 14s\n",
            "849:\tlearn: 1.0294108\ttotal: 7m 1s\tremaining: 1m 14s\n",
            "850:\tlearn: 1.0294060\ttotal: 7m 1s\tremaining: 1m 13s\n",
            "851:\tlearn: 1.0293911\ttotal: 7m 2s\tremaining: 1m 13s\n",
            "852:\tlearn: 1.0293750\ttotal: 7m 2s\tremaining: 1m 12s\n",
            "853:\tlearn: 1.0293628\ttotal: 7m 3s\tremaining: 1m 12s\n",
            "854:\tlearn: 1.0293488\ttotal: 7m 3s\tremaining: 1m 11s\n",
            "855:\tlearn: 1.0293400\ttotal: 7m 4s\tremaining: 1m 11s\n",
            "856:\tlearn: 1.0293332\ttotal: 7m 4s\tremaining: 1m 10s\n",
            "857:\tlearn: 1.0293236\ttotal: 7m 5s\tremaining: 1m 10s\n",
            "858:\tlearn: 1.0293209\ttotal: 7m 5s\tremaining: 1m 9s\n",
            "859:\tlearn: 1.0293130\ttotal: 7m 6s\tremaining: 1m 9s\n",
            "860:\tlearn: 1.0293082\ttotal: 7m 7s\tremaining: 1m 8s\n",
            "861:\tlearn: 1.0293010\ttotal: 7m 7s\tremaining: 1m 8s\n",
            "862:\tlearn: 1.0292934\ttotal: 7m 8s\tremaining: 1m 7s\n",
            "863:\tlearn: 1.0292905\ttotal: 7m 8s\tremaining: 1m 7s\n",
            "864:\tlearn: 1.0292844\ttotal: 7m 8s\tremaining: 1m 6s\n",
            "865:\tlearn: 1.0292768\ttotal: 7m 9s\tremaining: 1m 6s\n",
            "866:\tlearn: 1.0292746\ttotal: 7m 9s\tremaining: 1m 5s\n",
            "867:\tlearn: 1.0292730\ttotal: 7m 10s\tremaining: 1m 5s\n",
            "868:\tlearn: 1.0292723\ttotal: 7m 10s\tremaining: 1m 4s\n",
            "869:\tlearn: 1.0292683\ttotal: 7m 11s\tremaining: 1m 4s\n",
            "870:\tlearn: 1.0292656\ttotal: 7m 11s\tremaining: 1m 3s\n",
            "871:\tlearn: 1.0292606\ttotal: 7m 12s\tremaining: 1m 3s\n",
            "872:\tlearn: 1.0292581\ttotal: 7m 12s\tremaining: 1m 2s\n",
            "873:\tlearn: 1.0292569\ttotal: 7m 12s\tremaining: 1m 2s\n",
            "874:\tlearn: 1.0292545\ttotal: 7m 13s\tremaining: 1m 1s\n",
            "875:\tlearn: 1.0292488\ttotal: 7m 13s\tremaining: 1m 1s\n",
            "876:\tlearn: 1.0292366\ttotal: 7m 14s\tremaining: 1m\n",
            "877:\tlearn: 1.0292199\ttotal: 7m 15s\tremaining: 1m\n",
            "878:\tlearn: 1.0291964\ttotal: 7m 15s\tremaining: 60s\n",
            "879:\tlearn: 1.0291693\ttotal: 7m 16s\tremaining: 59.5s\n",
            "880:\tlearn: 1.0291657\ttotal: 7m 16s\tremaining: 59s\n",
            "881:\tlearn: 1.0291393\ttotal: 7m 17s\tremaining: 58.5s\n",
            "882:\tlearn: 1.0291355\ttotal: 7m 18s\tremaining: 58s\n",
            "883:\tlearn: 1.0291041\ttotal: 7m 18s\tremaining: 57.5s\n",
            "884:\tlearn: 1.0290935\ttotal: 7m 19s\tremaining: 57s\n",
            "885:\tlearn: 1.0290864\ttotal: 7m 19s\tremaining: 56.6s\n",
            "886:\tlearn: 1.0290779\ttotal: 7m 20s\tremaining: 56.1s\n",
            "887:\tlearn: 1.0290755\ttotal: 7m 20s\tremaining: 55.5s\n",
            "888:\tlearn: 1.0290708\ttotal: 7m 20s\tremaining: 55s\n",
            "889:\tlearn: 1.0290666\ttotal: 7m 21s\tremaining: 54.6s\n",
            "890:\tlearn: 1.0290640\ttotal: 7m 22s\tremaining: 54.1s\n",
            "891:\tlearn: 1.0290520\ttotal: 7m 22s\tremaining: 53.6s\n",
            "892:\tlearn: 1.0289553\ttotal: 7m 22s\tremaining: 53.1s\n",
            "893:\tlearn: 1.0289432\ttotal: 7m 23s\tremaining: 52.6s\n",
            "894:\tlearn: 1.0289262\ttotal: 7m 23s\tremaining: 52.1s\n",
            "895:\tlearn: 1.0289161\ttotal: 7m 24s\tremaining: 51.6s\n",
            "896:\tlearn: 1.0289146\ttotal: 7m 24s\tremaining: 51s\n",
            "897:\tlearn: 1.0289126\ttotal: 7m 25s\tremaining: 50.6s\n",
            "898:\tlearn: 1.0288850\ttotal: 7m 25s\tremaining: 50.1s\n",
            "899:\tlearn: 1.0288721\ttotal: 7m 26s\tremaining: 49.6s\n",
            "900:\tlearn: 1.0288499\ttotal: 7m 26s\tremaining: 49.1s\n",
            "901:\tlearn: 1.0288425\ttotal: 7m 27s\tremaining: 48.6s\n",
            "902:\tlearn: 1.0288348\ttotal: 7m 27s\tremaining: 48.1s\n",
            "903:\tlearn: 1.0288310\ttotal: 7m 28s\tremaining: 47.6s\n",
            "904:\tlearn: 1.0288194\ttotal: 7m 28s\tremaining: 47.1s\n",
            "905:\tlearn: 1.0288111\ttotal: 7m 28s\tremaining: 46.6s\n",
            "906:\tlearn: 1.0288073\ttotal: 7m 29s\tremaining: 46.1s\n",
            "907:\tlearn: 1.0287987\ttotal: 7m 29s\tremaining: 45.6s\n",
            "908:\tlearn: 1.0287944\ttotal: 7m 30s\tremaining: 45.1s\n",
            "909:\tlearn: 1.0287818\ttotal: 7m 30s\tremaining: 44.6s\n",
            "910:\tlearn: 1.0287812\ttotal: 7m 31s\tremaining: 44.1s\n",
            "911:\tlearn: 1.0287534\ttotal: 7m 31s\tremaining: 43.6s\n",
            "912:\tlearn: 1.0287512\ttotal: 7m 31s\tremaining: 43.1s\n",
            "913:\tlearn: 1.0287437\ttotal: 7m 32s\tremaining: 42.5s\n",
            "914:\tlearn: 1.0287394\ttotal: 7m 32s\tremaining: 42s\n",
            "915:\tlearn: 1.0287234\ttotal: 7m 33s\tremaining: 41.6s\n",
            "916:\tlearn: 1.0287229\ttotal: 7m 33s\tremaining: 41s\n",
            "917:\tlearn: 1.0287095\ttotal: 7m 33s\tremaining: 40.5s\n",
            "918:\tlearn: 1.0286996\ttotal: 7m 34s\tremaining: 40s\n",
            "919:\tlearn: 1.0286911\ttotal: 7m 34s\tremaining: 39.5s\n",
            "920:\tlearn: 1.0286699\ttotal: 7m 35s\tremaining: 39s\n",
            "921:\tlearn: 1.0286528\ttotal: 7m 35s\tremaining: 38.5s\n",
            "922:\tlearn: 1.0286511\ttotal: 7m 36s\tremaining: 38.1s\n",
            "923:\tlearn: 1.0286464\ttotal: 7m 36s\tremaining: 37.6s\n",
            "924:\tlearn: 1.0286432\ttotal: 7m 37s\tremaining: 37.1s\n",
            "925:\tlearn: 1.0286401\ttotal: 7m 38s\tremaining: 36.6s\n",
            "926:\tlearn: 1.0286216\ttotal: 7m 38s\tremaining: 36.1s\n",
            "927:\tlearn: 1.0286100\ttotal: 7m 39s\tremaining: 35.6s\n",
            "928:\tlearn: 1.0285919\ttotal: 7m 39s\tremaining: 35.1s\n",
            "929:\tlearn: 1.0285870\ttotal: 7m 40s\tremaining: 34.6s\n",
            "930:\tlearn: 1.0285750\ttotal: 7m 40s\tremaining: 34.1s\n",
            "931:\tlearn: 1.0285700\ttotal: 7m 41s\tremaining: 33.6s\n",
            "932:\tlearn: 1.0285629\ttotal: 7m 41s\tremaining: 33.2s\n",
            "933:\tlearn: 1.0285627\ttotal: 7m 42s\tremaining: 32.7s\n",
            "934:\tlearn: 1.0285161\ttotal: 7m 42s\tremaining: 32.2s\n",
            "935:\tlearn: 1.0285101\ttotal: 7m 43s\tremaining: 31.7s\n",
            "936:\tlearn: 1.0285014\ttotal: 7m 43s\tremaining: 31.2s\n",
            "937:\tlearn: 1.0284979\ttotal: 7m 44s\tremaining: 30.7s\n",
            "938:\tlearn: 1.0284885\ttotal: 7m 44s\tremaining: 30.2s\n",
            "939:\tlearn: 1.0284873\ttotal: 7m 45s\tremaining: 29.7s\n",
            "940:\tlearn: 1.0284857\ttotal: 7m 46s\tremaining: 29.2s\n",
            "941:\tlearn: 1.0284753\ttotal: 7m 46s\tremaining: 28.7s\n",
            "942:\tlearn: 1.0284751\ttotal: 7m 46s\tremaining: 28.2s\n",
            "943:\tlearn: 1.0284710\ttotal: 7m 47s\tremaining: 27.7s\n",
            "944:\tlearn: 1.0284547\ttotal: 7m 48s\tremaining: 27.2s\n",
            "945:\tlearn: 1.0284486\ttotal: 7m 48s\tremaining: 26.7s\n",
            "946:\tlearn: 1.0284326\ttotal: 7m 48s\tremaining: 26.2s\n",
            "947:\tlearn: 1.0284310\ttotal: 7m 49s\tremaining: 25.7s\n",
            "948:\tlearn: 1.0284239\ttotal: 7m 49s\tremaining: 25.3s\n",
            "949:\tlearn: 1.0284009\ttotal: 7m 50s\tremaining: 24.8s\n",
            "950:\tlearn: 1.0283994\ttotal: 7m 51s\tremaining: 24.3s\n",
            "951:\tlearn: 1.0283985\ttotal: 7m 51s\tremaining: 23.8s\n",
            "952:\tlearn: 1.0283938\ttotal: 7m 51s\tremaining: 23.3s\n",
            "953:\tlearn: 1.0283931\ttotal: 7m 52s\tremaining: 22.8s\n",
            "954:\tlearn: 1.0283913\ttotal: 7m 52s\tremaining: 22.3s\n",
            "955:\tlearn: 1.0283621\ttotal: 7m 53s\tremaining: 21.8s\n",
            "956:\tlearn: 1.0283447\ttotal: 7m 53s\tremaining: 21.3s\n",
            "957:\tlearn: 1.0283434\ttotal: 7m 54s\tremaining: 20.8s\n",
            "958:\tlearn: 1.0283380\ttotal: 7m 54s\tremaining: 20.3s\n",
            "959:\tlearn: 1.0283274\ttotal: 7m 55s\tremaining: 19.8s\n",
            "960:\tlearn: 1.0283234\ttotal: 7m 55s\tremaining: 19.3s\n",
            "961:\tlearn: 1.0283123\ttotal: 7m 56s\tremaining: 18.8s\n",
            "962:\tlearn: 1.0283087\ttotal: 7m 56s\tremaining: 18.3s\n",
            "963:\tlearn: 1.0282903\ttotal: 7m 57s\tremaining: 17.8s\n",
            "964:\tlearn: 1.0282875\ttotal: 7m 57s\tremaining: 17.3s\n",
            "965:\tlearn: 1.0282843\ttotal: 7m 58s\tremaining: 16.8s\n",
            "966:\tlearn: 1.0282754\ttotal: 7m 58s\tremaining: 16.3s\n",
            "967:\tlearn: 1.0282661\ttotal: 7m 59s\tremaining: 15.9s\n",
            "968:\tlearn: 1.0281901\ttotal: 8m\tremaining: 15.4s\n",
            "969:\tlearn: 1.0281675\ttotal: 8m\tremaining: 14.9s\n",
            "970:\tlearn: 1.0281503\ttotal: 8m 1s\tremaining: 14.4s\n",
            "971:\tlearn: 1.0281323\ttotal: 8m 1s\tremaining: 13.9s\n",
            "972:\tlearn: 1.0280921\ttotal: 8m 2s\tremaining: 13.4s\n",
            "973:\tlearn: 1.0280913\ttotal: 8m 2s\tremaining: 12.9s\n",
            "974:\tlearn: 1.0280839\ttotal: 8m 3s\tremaining: 12.4s\n",
            "975:\tlearn: 1.0280815\ttotal: 8m 3s\tremaining: 11.9s\n",
            "976:\tlearn: 1.0280808\ttotal: 8m 4s\tremaining: 11.4s\n",
            "977:\tlearn: 1.0280801\ttotal: 8m 4s\tremaining: 10.9s\n",
            "978:\tlearn: 1.0280508\ttotal: 8m 5s\tremaining: 10.4s\n",
            "979:\tlearn: 1.0280496\ttotal: 8m 5s\tremaining: 9.91s\n",
            "980:\tlearn: 1.0280440\ttotal: 8m 6s\tremaining: 9.42s\n",
            "981:\tlearn: 1.0280339\ttotal: 8m 6s\tremaining: 8.92s\n",
            "982:\tlearn: 1.0280249\ttotal: 8m 7s\tremaining: 8.43s\n",
            "983:\tlearn: 1.0280222\ttotal: 8m 7s\tremaining: 7.93s\n",
            "984:\tlearn: 1.0280021\ttotal: 8m 8s\tremaining: 7.44s\n",
            "985:\tlearn: 1.0279721\ttotal: 8m 8s\tremaining: 6.94s\n",
            "986:\tlearn: 1.0279605\ttotal: 8m 9s\tremaining: 6.45s\n",
            "987:\tlearn: 1.0279514\ttotal: 8m 9s\tremaining: 5.95s\n",
            "988:\tlearn: 1.0279206\ttotal: 8m 10s\tremaining: 5.46s\n",
            "989:\tlearn: 1.0279015\ttotal: 8m 10s\tremaining: 4.96s\n",
            "990:\tlearn: 1.0278983\ttotal: 8m 11s\tremaining: 4.46s\n",
            "991:\tlearn: 1.0278957\ttotal: 8m 11s\tremaining: 3.96s\n",
            "992:\tlearn: 1.0278937\ttotal: 8m 12s\tremaining: 3.47s\n",
            "993:\tlearn: 1.0278887\ttotal: 8m 12s\tremaining: 2.98s\n",
            "994:\tlearn: 1.0278831\ttotal: 8m 13s\tremaining: 2.48s\n",
            "995:\tlearn: 1.0278787\ttotal: 8m 13s\tremaining: 1.98s\n",
            "996:\tlearn: 1.0278779\ttotal: 8m 14s\tremaining: 1.49s\n",
            "997:\tlearn: 1.0278714\ttotal: 8m 14s\tremaining: 991ms\n",
            "998:\tlearn: 1.0278642\ttotal: 8m 15s\tremaining: 496ms\n",
            "999:\tlearn: 1.0278272\ttotal: 8m 15s\tremaining: 0us\n",
            "CPU times: user 15min 6s, sys: 45.6 s, total: 15min 51s\n",
            "Wall time: 8min 21s\n"
          ],
          "name": "stdout"
        }
      ]
    },
    {
      "cell_type": "code",
      "metadata": {
        "id": "7jcD83NGvGXM",
        "colab_type": "code",
        "outputId": "04b7faaa-082a-4e92-9525-6aaaa00ab09e",
        "colab": {
          "base_uri": "https://localhost:8080/",
          "height": 34
        }
      },
      "source": [
        "pred_ctb = model_catboost.predict(X_test_no_num)\n",
        "print(np.sqrt(mean_squared_error(y_test_no_num, pred_ctb)))"
      ],
      "execution_count": 37,
      "outputs": [
        {
          "output_type": "stream",
          "text": [
            "1.0473222559313193\n"
          ],
          "name": "stdout"
        }
      ]
    },
    {
      "cell_type": "code",
      "metadata": {
        "id": "bJTQM_ca_nnI",
        "colab_type": "code",
        "outputId": "97039666-aae0-466f-bf43-5362bac4775c",
        "colab": {
          "base_uri": "https://localhost:8080/",
          "height": 350
        }
      },
      "source": [
        "feature_importance_df = pd.DataFrame(model_catboost.get_feature_importance(prettified=True),\n",
        "                                     columns=['Feature Id', 'Importances'])\n",
        "plt.figure(figsize=(10, 5))\n",
        "sns.barplot(x='Importances', y='Feature Id', data=feature_importance_df)\n",
        "plt.title('CatBoost features importance');"
      ],
      "execution_count": 38,
      "outputs": [
        {
          "output_type": "display_data",
          "data": {
            "image/png": "[encoded data removed]",
            "text/plain": [
              "<Figure size 720x360 with 1 Axes>"
            ]
          },
          "metadata": {
            "tags": [],
            "needs_background": "light"
          }
        }
      ]
    },
    {
      "cell_type": "markdown",
      "metadata": {
        "id": "HlQhyvoJvjTa",
        "colab_type": "text"
      },
      "source": [
        "# RandomForest"
      ]
    },
    {
      "cell_type": "code",
      "metadata": {
        "id": "fcKImkhhviIz",
        "colab_type": "code",
        "outputId": "8ac0524a-80e1-496c-a9bb-69e1da00c4b6",
        "colab": {
          "base_uri": "https://localhost:8080/",
          "height": 52
        }
      },
      "source": [
        "%%time\n",
        "model_rf = RandomForestRegressor()\n",
        "model_rf.fit(X_train_check, y_train_check)"
      ],
      "execution_count": 39,
      "outputs": [
        {
          "output_type": "stream",
          "text": [
            "CPU times: user 21min 57s, sys: 444 ms, total: 21min 57s\n",
            "Wall time: 21min 58s\n"
          ],
          "name": "stdout"
        }
      ]
    },
    {
      "cell_type": "code",
      "metadata": {
        "id": "fLqILNzUwdcs",
        "colab_type": "code",
        "outputId": "e418492c-c70b-4f10-a151-348efd317ffa",
        "colab": {
          "base_uri": "https://localhost:8080/",
          "height": 34
        }
      },
      "source": [
        "pred_rf = model_rf.predict(X_test_check)\n",
        "print(np.sqrt(mean_squared_error(y_test_check, pred_rf)))"
      ],
      "execution_count": 40,
      "outputs": [
        {
          "output_type": "stream",
          "text": [
            "1.0571823028248604\n"
          ],
          "name": "stdout"
        }
      ]
    },
    {
      "cell_type": "markdown",
      "metadata": {
        "id": "0a3-7ICyKmOH",
        "colab_type": "text"
      },
      "source": [
        "# LightGBM"
      ]
    },
    {
      "cell_type": "code",
      "metadata": {
        "id": "EUdzd_fHKlaG",
        "colab_type": "code",
        "outputId": "f7225703-802c-4bc6-f721-0c6c60e675bf",
        "colab": {
          "base_uri": "https://localhost:8080/",
          "height": 121
        }
      },
      "source": [
        "model_lgbm = LGBMRegressor()\n",
        "model_lgbm.fit(X_train_check, y_train_check)"
      ],
      "execution_count": 41,
      "outputs": [
        {
          "output_type": "execute_result",
          "data": {
            "text/plain": [
              "LGBMRegressor(boosting_type='gbdt', class_weight=None, colsample_bytree=1.0,\n",
              "              importance_type='split', learning_rate=0.1, max_depth=-1,\n",
              "              min_child_samples=20, min_child_weight=0.001, min_split_gain=0.0,\n",
              "              n_estimators=100, n_jobs=-1, num_leaves=31, objective=None,\n",
              "              random_state=None, reg_alpha=0.0, reg_lambda=0.0, silent=True,\n",
              "              subsample=1.0, subsample_for_bin=200000, subsample_freq=0)"
            ]
          },
          "metadata": {
            "tags": []
          },
          "execution_count": 41
        }
      ]
    },
    {
      "cell_type": "code",
      "metadata": {
        "id": "0kHKox9cNWFw",
        "colab_type": "code",
        "outputId": "625591d7-7621-42c9-c29c-c94a9f31d5d0",
        "colab": {
          "base_uri": "https://localhost:8080/",
          "height": 34
        }
      },
      "source": [
        "pred_lgbm = model_lgbm.predict(X_test_check)\n",
        "print(np.sqrt(mean_squared_error(y_test_check, pred_lgbm)))"
      ],
      "execution_count": 42,
      "outputs": [
        {
          "output_type": "stream",
          "text": [
            "1.048706763064606\n"
          ],
          "name": "stdout"
        }
      ]
    },
    {
      "cell_type": "code",
      "metadata": {
        "id": "d5LNOBmXosvD",
        "colab_type": "code",
        "outputId": "79c35777-9005-4599-ac33-01e0f8de8ba3",
        "colab": {
          "base_uri": "https://localhost:8080/",
          "height": 364
        }
      },
      "source": [
        "model_lgbm.get_params()"
      ],
      "execution_count": 43,
      "outputs": [
        {
          "output_type": "execute_result",
          "data": {
            "text/plain": [
              "{'boosting_type': 'gbdt',\n",
              " 'class_weight': None,\n",
              " 'colsample_bytree': 1.0,\n",
              " 'importance_type': 'split',\n",
              " 'learning_rate': 0.1,\n",
              " 'max_depth': -1,\n",
              " 'min_child_samples': 20,\n",
              " 'min_child_weight': 0.001,\n",
              " 'min_split_gain': 0.0,\n",
              " 'n_estimators': 100,\n",
              " 'n_jobs': -1,\n",
              " 'num_leaves': 31,\n",
              " 'objective': None,\n",
              " 'random_state': None,\n",
              " 'reg_alpha': 0.0,\n",
              " 'reg_lambda': 0.0,\n",
              " 'silent': True,\n",
              " 'subsample': 1.0,\n",
              " 'subsample_for_bin': 200000,\n",
              " 'subsample_freq': 0}"
            ]
          },
          "metadata": {
            "tags": []
          },
          "execution_count": 43
        }
      ]
    },
    {
      "cell_type": "markdown",
      "metadata": {
        "id": "1cVDDeeYhaT9",
        "colab_type": "text"
      },
      "source": [
        "# GridSearch"
      ]
    },
    {
      "cell_type": "code",
      "metadata": {
        "id": "g4lftXRphc7h",
        "colab_type": "code",
        "colab": {}
      },
      "source": [
        "# from sklearn.model_selection import GridSearchCV"
      ],
      "execution_count": 0,
      "outputs": []
    },
    {
      "cell_type": "code",
      "metadata": {
        "id": "NuZjJNIxh2K_",
        "colab_type": "code",
        "colab": {}
      },
      "source": [
        "# params = {\n",
        "#     'learning_rate':[0.7, 0.5, 0.3, 0.1, 0.01],\n",
        "#     'reg_alpha':[0, 1, 1.5, 5],\n",
        "#     'reg_lambda':[0, 1, 1.5, 5],\n",
        "#     'num_iterations':[100, 500, 1000],\n",
        "# }\n",
        "\n",
        "# best_lgbm = GridSearchCV(LGBMRegressor(), params, cv=5, refit=True)"
      ],
      "execution_count": 0,
      "outputs": []
    },
    {
      "cell_type": "code",
      "metadata": {
        "id": "eIZkEJTpj0fW",
        "colab_type": "code",
        "colab": {}
      },
      "source": [
        "# best_lgbm.fit(X_train_check, y_train_check)"
      ],
      "execution_count": 0,
      "outputs": []
    },
    {
      "cell_type": "code",
      "metadata": {
        "id": "5Ov_sksCoT8N",
        "colab_type": "code",
        "colab": {}
      },
      "source": [
        "# pred_best_lgbm = best_lgbm.predict(X_test_check)\n",
        "# print(np.sqrt(mean_squared_error(y_test_check, pred_best_lgbm)))"
      ],
      "execution_count": 0,
      "outputs": []
    },
    {
      "cell_type": "markdown",
      "metadata": {
        "id": "S2PUD7RvJ21c",
        "colab_type": "text"
      },
      "source": [
        "# Stacking models"
      ]
    },
    {
      "cell_type": "code",
      "metadata": {
        "id": "J5QlNlAGKDQg",
        "colab_type": "code",
        "colab": {}
      },
      "source": [
        "from sklearn.ensemble import StackingRegressor\n",
        "from sklearn.linear_model import RidgeCV\n",
        "from sklearn.linear_model import LinearRegression\n",
        "from sklearn.svm import LinearSVR"
      ],
      "execution_count": 0,
      "outputs": []
    },
    {
      "cell_type": "code",
      "metadata": {
        "id": "zhyO-NvpKNuP",
        "colab_type": "code",
        "colab": {
          "base_uri": "https://localhost:8080/",
          "height": 816
        },
        "outputId": "1686a85b-704d-4cf4-90b2-f1924b89e998"
      },
      "source": [
        "estimators = [\n",
        "              ('ridge', RidgeCV()),\n",
        "              ('lr', LinearRegression()),\n",
        "              ('svr', LinearSVR()),\n",
        "              ('xgboost', xgboost.XGBRegressor()),\n",
        "              # ('rf', RandomForestRegressor())\n",
        "              ]\n",
        "\n",
        "stack = StackingRegressor(estimators=estimators, final_estimator=LGBMRegressor())\n",
        "stack.fit(X_train_check, y_train_check)"
      ],
      "execution_count": 46,
      "outputs": [
        {
          "output_type": "stream",
          "text": [
            "/usr/local/lib/python3.6/dist-packages/sklearn/svm/_base.py:947: ConvergenceWarning: Liblinear failed to converge, increase the number of iterations.\n",
            "  \"the number of iterations.\", ConvergenceWarning)\n"
          ],
          "name": "stderr"
        },
        {
          "output_type": "stream",
          "text": [
            "[14:39:09] WARNING: /workspace/src/objective/regression_obj.cu:152: reg:linear is now deprecated in favor of reg:squarederror.\n"
          ],
          "name": "stdout"
        },
        {
          "output_type": "stream",
          "text": [
            "/usr/local/lib/python3.6/dist-packages/sklearn/svm/_base.py:947: ConvergenceWarning: Liblinear failed to converge, increase the number of iterations.\n",
            "  \"the number of iterations.\", ConvergenceWarning)\n",
            "/usr/local/lib/python3.6/dist-packages/sklearn/svm/_base.py:947: ConvergenceWarning: Liblinear failed to converge, increase the number of iterations.\n",
            "  \"the number of iterations.\", ConvergenceWarning)\n",
            "/usr/local/lib/python3.6/dist-packages/sklearn/svm/_base.py:947: ConvergenceWarning: Liblinear failed to converge, increase the number of iterations.\n",
            "  \"the number of iterations.\", ConvergenceWarning)\n",
            "/usr/local/lib/python3.6/dist-packages/sklearn/svm/_base.py:947: ConvergenceWarning: Liblinear failed to converge, increase the number of iterations.\n",
            "  \"the number of iterations.\", ConvergenceWarning)\n",
            "/usr/local/lib/python3.6/dist-packages/sklearn/svm/_base.py:947: ConvergenceWarning: Liblinear failed to converge, increase the number of iterations.\n",
            "  \"the number of iterations.\", ConvergenceWarning)\n"
          ],
          "name": "stderr"
        },
        {
          "output_type": "stream",
          "text": [
            "[15:02:49] WARNING: /workspace/src/objective/regression_obj.cu:152: reg:linear is now deprecated in favor of reg:squarederror.\n",
            "[15:06:27] WARNING: /workspace/src/objective/regression_obj.cu:152: reg:linear is now deprecated in favor of reg:squarederror.\n",
            "[15:10:15] WARNING: /workspace/src/objective/regression_obj.cu:152: reg:linear is now deprecated in favor of reg:squarederror.\n",
            "[15:14:01] WARNING: /workspace/src/objective/regression_obj.cu:152: reg:linear is now deprecated in favor of reg:squarederror.\n",
            "[15:17:44] WARNING: /workspace/src/objective/regression_obj.cu:152: reg:linear is now deprecated in favor of reg:squarederror.\n"
          ],
          "name": "stdout"
        },
        {
          "output_type": "execute_result",
          "data": {
            "text/plain": [
              "StackingRegressor(cv=None,\n",
              "                  estimators=[('ridge',\n",
              "                               RidgeCV(alphas=array([ 0.1,  1. , 10. ]),\n",
              "                                       cv=None, fit_intercept=True,\n",
              "                                       gcv_mode=None, normalize=False,\n",
              "                                       scoring=None, store_cv_values=False)),\n",
              "                              ('lr',\n",
              "                               LinearRegression(copy_X=True, fit_intercept=True,\n",
              "                                                n_jobs=None, normalize=False)),\n",
              "                              ('svr',\n",
              "                               LinearSVR(C=1.0, dual=True, epsilon=0.0,\n",
              "                                         fit_intercept=True,\n",
              "                                         intercept_scaling=1.0,\n",
              "                                         loss...\n",
              "                                                colsample_bytree=1.0,\n",
              "                                                importance_type='split',\n",
              "                                                learning_rate=0.1, max_depth=-1,\n",
              "                                                min_child_samples=20,\n",
              "                                                min_child_weight=0.001,\n",
              "                                                min_split_gain=0.0,\n",
              "                                                n_estimators=100, n_jobs=-1,\n",
              "                                                num_leaves=31, objective=None,\n",
              "                                                random_state=None,\n",
              "                                                reg_alpha=0.0, reg_lambda=0.0,\n",
              "                                                silent=True, subsample=1.0,\n",
              "                                                subsample_for_bin=200000,\n",
              "                                                subsample_freq=0),\n",
              "                  n_jobs=None, passthrough=False, verbose=0)"
            ]
          },
          "metadata": {
            "tags": []
          },
          "execution_count": 46
        }
      ]
    },
    {
      "cell_type": "code",
      "metadata": {
        "id": "SWXpGxKKOKvd",
        "colab_type": "code",
        "colab": {
          "base_uri": "https://localhost:8080/",
          "height": 34
        },
        "outputId": "10d14d23-7cf6-4e01-9a70-287be730c39d"
      },
      "source": [
        "pred_stack = stack.predict(X_test_check)\n",
        "print(np.sqrt(mean_squared_error(y_test_check, pred_stack)))"
      ],
      "execution_count": 47,
      "outputs": [
        {
          "output_type": "stream",
          "text": [
            "1.08138170381841\n"
          ],
          "name": "stdout"
        }
      ]
    },
    {
      "cell_type": "code",
      "metadata": {
        "id": "q7sOdMTYfj1u",
        "colab_type": "code",
        "colab": {
          "base_uri": "https://localhost:8080/",
          "height": 34
        },
        "outputId": "c957de16-adf7-405c-8bcc-ce982b994bd7"
      },
      "source": [
        "import gc\n",
        "gc.collect()"
      ],
      "execution_count": 48,
      "outputs": [
        {
          "output_type": "execute_result",
          "data": {
            "text/plain": [
              "3389"
            ]
          },
          "metadata": {
            "tags": []
          },
          "execution_count": 48
        }
      ]
    },
    {
      "cell_type": "markdown",
      "metadata": {
        "id": "kYOEE3lrp8rb",
        "colab_type": "text"
      },
      "source": [
        "# Create submission"
      ]
    },
    {
      "cell_type": "code",
      "metadata": {
        "id": "yLTJgv9UxRIe",
        "colab_type": "code",
        "outputId": "843e5418-ea26-409e-ea3c-a1efffb6ea23",
        "colab": {
          "base_uri": "https://localhost:8080/",
          "height": 34
        }
      },
      "source": [
        "pred_for_sub = stack.predict(X_test_num)\n",
        "len(pred_for_sub)"
      ],
      "execution_count": 49,
      "outputs": [
        {
          "output_type": "execute_result",
          "data": {
            "text/plain": [
              "214200"
            ]
          },
          "metadata": {
            "tags": []
          },
          "execution_count": 49
        }
      ]
    },
    {
      "cell_type": "code",
      "metadata": {
        "id": "fYnOq43tvIqh",
        "colab_type": "code",
        "outputId": "4f6edc4e-fcfe-4f1e-aced-e3044477a747",
        "colab": {
          "base_uri": "https://localhost:8080/",
          "height": 424
        }
      },
      "source": [
        "sub = pd.DataFrame({'ID':test.ID, 'item_cnt_month':pred_for_sub})\n",
        "sub"
      ],
      "execution_count": 50,
      "outputs": [
        {
          "output_type": "execute_result",
          "data": {
            "text/html": [
              "<div>\n",
              "<style scoped>\n",
              "    .dataframe tbody tr th:only-of-type {\n",
              "        vertical-align: middle;\n",
              "    }\n",
              "\n",
              "    .dataframe tbody tr th {\n",
              "        vertical-align: top;\n",
              "    }\n",
              "\n",
              "    .dataframe thead th {\n",
              "        text-align: right;\n",
              "    }\n",
              "</style>\n",
              "<table border=\"1\" class=\"dataframe\">\n",
              "  <thead>\n",
              "    <tr style=\"text-align: right;\">\n",
              "      <th></th>\n",
              "      <th>ID</th>\n",
              "      <th>item_cnt_month</th>\n",
              "    </tr>\n",
              "  </thead>\n",
              "  <tbody>\n",
              "    <tr>\n",
              "      <th>0</th>\n",
              "      <td>0</td>\n",
              "      <td>1.07619</td>\n",
              "    </tr>\n",
              "    <tr>\n",
              "      <th>1</th>\n",
              "      <td>1</td>\n",
              "      <td>1.09123</td>\n",
              "    </tr>\n",
              "    <tr>\n",
              "      <th>2</th>\n",
              "      <td>2</td>\n",
              "      <td>1.14036</td>\n",
              "    </tr>\n",
              "    <tr>\n",
              "      <th>3</th>\n",
              "      <td>3</td>\n",
              "      <td>1.07266</td>\n",
              "    </tr>\n",
              "    <tr>\n",
              "      <th>4</th>\n",
              "      <td>4</td>\n",
              "      <td>1.09123</td>\n",
              "    </tr>\n",
              "    <tr>\n",
              "      <th>...</th>\n",
              "      <td>...</td>\n",
              "      <td>...</td>\n",
              "    </tr>\n",
              "    <tr>\n",
              "      <th>214195</th>\n",
              "      <td>214195</td>\n",
              "      <td>1.04798</td>\n",
              "    </tr>\n",
              "    <tr>\n",
              "      <th>214196</th>\n",
              "      <td>214196</td>\n",
              "      <td>1.04798</td>\n",
              "    </tr>\n",
              "    <tr>\n",
              "      <th>214197</th>\n",
              "      <td>214197</td>\n",
              "      <td>1.03403</td>\n",
              "    </tr>\n",
              "    <tr>\n",
              "      <th>214198</th>\n",
              "      <td>214198</td>\n",
              "      <td>1.04318</td>\n",
              "    </tr>\n",
              "    <tr>\n",
              "      <th>214199</th>\n",
              "      <td>214199</td>\n",
              "      <td>1.03630</td>\n",
              "    </tr>\n",
              "  </tbody>\n",
              "</table>\n",
              "<p>214200 rows × 2 columns</p>\n",
              "</div>"
            ],
            "text/plain": [
              "            ID  item_cnt_month\n",
              "0            0         1.07619\n",
              "1            1         1.09123\n",
              "2            2         1.14036\n",
              "3            3         1.07266\n",
              "4            4         1.09123\n",
              "...        ...             ...\n",
              "214195  214195         1.04798\n",
              "214196  214196         1.04798\n",
              "214197  214197         1.03403\n",
              "214198  214198         1.04318\n",
              "214199  214199         1.03630\n",
              "\n",
              "[214200 rows x 2 columns]"
            ]
          },
          "metadata": {
            "tags": []
          },
          "execution_count": 50
        }
      ]
    },
    {
      "cell_type": "code",
      "metadata": {
        "id": "OHtSqnID9voJ",
        "colab_type": "code",
        "colab": {}
      },
      "source": [
        "sub.to_csv(\"sub.csv\", index=False)"
      ],
      "execution_count": 0,
      "outputs": []
    },
    {
      "cell_type": "code",
      "metadata": {
        "id": "37c1lSETK4GS",
        "colab_type": "code",
        "colab": {}
      },
      "source": [
        ""
      ],
      "execution_count": 0,
      "outputs": []
    }
  ]
}